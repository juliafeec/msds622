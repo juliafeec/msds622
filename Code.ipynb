{
 "cells": [
  {
   "cell_type": "code",
   "execution_count": 2,
   "metadata": {
    "ExecuteTime": {
     "end_time": "2019-05-11T21:49:01.690939Z",
     "start_time": "2019-05-11T21:49:01.681280Z"
    }
   },
   "outputs": [],
   "source": [
    "import plotly.plotly as py\n",
    "import plotly.graph_objs as go\n",
    "import plotly.figure_factory as ff\n",
    "import pandas as pd\n",
    "import numpy as np\n",
    "import matplotlib.pyplot as plt\n",
    "import pickle\n",
    "from tqdm import tqdm\n",
    "import reverse_geocoder as rg\n",
    "import seaborn as sns\n",
    "import squarify    \n",
    "from geopy.distance import great_circle"
   ]
  },
  {
   "cell_type": "code",
   "execution_count": 39,
   "metadata": {
    "ExecuteTime": {
     "end_time": "2019-05-11T22:26:01.462131Z",
     "start_time": "2019-05-11T22:26:01.460390Z"
    }
   },
   "outputs": [],
   "source": [
    "# Data from https://sites.google.com/site/yangdingqi/home/foursquare-dataset"
   ]
  },
  {
   "cell_type": "code",
   "execution_count": 28,
   "metadata": {
    "ExecuteTime": {
     "end_time": "2019-05-11T22:10:40.492165Z",
     "start_time": "2019-05-11T22:10:38.706732Z"
    }
   },
   "outputs": [],
   "source": [
    "df_poi = pd.read_csv(\"raw_POIs_US.txt\")\n",
    "df_poi.lat = df_poi.lat.astype(np.float32)\n",
    "df_poi.lon = df_poi.lon.astype(np.float32)"
   ]
  },
  {
   "cell_type": "code",
   "execution_count": 34,
   "metadata": {
    "ExecuteTime": {
     "end_time": "2019-05-11T22:17:10.528393Z",
     "start_time": "2019-05-11T22:16:05.411950Z"
    }
   },
   "outputs": [],
   "source": [
    "df_check = pd.read_pickle(\"df_check.pickle\")\n",
    "df_check[\"hour\"] = df_check.local_time.apply(lambda x: x.strftime(\"%H\"))\n",
    "\n",
    "def part_hour(x):\n",
    "    h, m = x.strftime(\"%H:%M\").split(\":\")\n",
    "    h, m = int(h), int(m)\n",
    "    return h+m/60\n",
    "\n",
    "df_check[\"hour_min\"] = df_check.local_time.apply(lambda x: part_hour(x))\n",
    "df_check[\"dow\"] = df_check.local_time.apply(lambda x: x.strftime(\"%a\"))\n",
    "df_check[\"weekend\"] = df_check.dow.apply(lambda x: 1 if (x==\"Sun\" or x==\"Sat\") else 0)"
   ]
  },
  {
   "cell_type": "code",
   "execution_count": 29,
   "metadata": {
    "ExecuteTime": {
     "end_time": "2019-05-11T22:10:40.501490Z",
     "start_time": "2019-05-11T22:10:40.493643Z"
    }
   },
   "outputs": [
    {
     "data": {
      "text/html": [
       "<div>\n",
       "<style scoped>\n",
       "    .dataframe tbody tr th:only-of-type {\n",
       "        vertical-align: middle;\n",
       "    }\n",
       "\n",
       "    .dataframe tbody tr th {\n",
       "        vertical-align: top;\n",
       "    }\n",
       "\n",
       "    .dataframe thead th {\n",
       "        text-align: right;\n",
       "    }\n",
       "</style>\n",
       "<table border=\"1\" class=\"dataframe\">\n",
       "  <thead>\n",
       "    <tr style=\"text-align: right;\">\n",
       "      <th></th>\n",
       "      <th>poi_id</th>\n",
       "      <th>lat</th>\n",
       "      <th>lon</th>\n",
       "      <th>category</th>\n",
       "      <th>country</th>\n",
       "    </tr>\n",
       "  </thead>\n",
       "  <tbody>\n",
       "    <tr>\n",
       "      <th>0</th>\n",
       "      <td>3fd66200f964a52000e61ee3</td>\n",
       "      <td>40.729210</td>\n",
       "      <td>-73.998756</td>\n",
       "      <td>Post Office</td>\n",
       "      <td>US</td>\n",
       "    </tr>\n",
       "    <tr>\n",
       "      <th>1</th>\n",
       "      <td>3fd66200f964a52000e71ee3</td>\n",
       "      <td>40.733597</td>\n",
       "      <td>-74.003136</td>\n",
       "      <td>Jazz Club</td>\n",
       "      <td>US</td>\n",
       "    </tr>\n",
       "    <tr>\n",
       "      <th>2</th>\n",
       "      <td>3fd66200f964a52000e81ee3</td>\n",
       "      <td>40.758102</td>\n",
       "      <td>-73.975731</td>\n",
       "      <td>Gym</td>\n",
       "      <td>US</td>\n",
       "    </tr>\n",
       "    <tr>\n",
       "      <th>3</th>\n",
       "      <td>3fd66200f964a52000ea1ee3</td>\n",
       "      <td>40.732456</td>\n",
       "      <td>-74.003754</td>\n",
       "      <td>Indian Restaurant</td>\n",
       "      <td>US</td>\n",
       "    </tr>\n",
       "    <tr>\n",
       "      <th>4</th>\n",
       "      <td>3fd66200f964a52000ec1ee3</td>\n",
       "      <td>42.345905</td>\n",
       "      <td>-71.086998</td>\n",
       "      <td>Indian Restaurant</td>\n",
       "      <td>US</td>\n",
       "    </tr>\n",
       "  </tbody>\n",
       "</table>\n",
       "</div>"
      ],
      "text/plain": [
       "                     poi_id        lat        lon           category country\n",
       "0  3fd66200f964a52000e61ee3  40.729210 -73.998756        Post Office      US\n",
       "1  3fd66200f964a52000e71ee3  40.733597 -74.003136          Jazz Club      US\n",
       "2  3fd66200f964a52000e81ee3  40.758102 -73.975731                Gym      US\n",
       "3  3fd66200f964a52000ea1ee3  40.732456 -74.003754  Indian Restaurant      US\n",
       "4  3fd66200f964a52000ec1ee3  42.345905 -71.086998  Indian Restaurant      US"
      ]
     },
     "execution_count": 29,
     "metadata": {},
     "output_type": "execute_result"
    }
   ],
   "source": [
    "df_poi.head()"
   ]
  },
  {
   "cell_type": "code",
   "execution_count": 6,
   "metadata": {
    "ExecuteTime": {
     "end_time": "2019-05-11T21:16:28.723122Z",
     "start_time": "2019-05-11T21:16:27.481461Z"
    }
   },
   "outputs": [],
   "source": [
    "vals = df_poi[[\"lat\", \"lon\"]].values.tolist()\n",
    "coordinates = tuple([tuple(x) for x in vals])"
   ]
  },
  {
   "cell_type": "code",
   "execution_count": 7,
   "metadata": {
    "ExecuteTime": {
     "end_time": "2019-05-11T21:16:31.152543Z",
     "start_time": "2019-05-11T21:16:28.724103Z"
    }
   },
   "outputs": [
    {
     "name": "stdout",
     "output_type": "stream",
     "text": [
      "Loading formatted geocoded file...\n",
      "CPU times: user 2.91 s, sys: 280 ms, total: 3.19 s\n",
      "Wall time: 2.41 s\n"
     ]
    }
   ],
   "source": [
    "%%time\n",
    "results = rg.search(coordinates)\n",
    "cities = [x[\"name\"] for x in results]\n",
    "admin1 = [x[\"admin1\"] for x in results]\n",
    "\n",
    "df_poi[\"city\"] = cities\n",
    "df_poi[\"admin1\"] = admin1"
   ]
  },
  {
   "cell_type": "code",
   "execution_count": 8,
   "metadata": {
    "ExecuteTime": {
     "end_time": "2019-05-11T21:16:35.736070Z",
     "start_time": "2019-05-11T21:16:31.154655Z"
    }
   },
   "outputs": [
    {
     "data": {
      "text/html": [
       "<div>\n",
       "<style scoped>\n",
       "    .dataframe tbody tr th:only-of-type {\n",
       "        vertical-align: middle;\n",
       "    }\n",
       "\n",
       "    .dataframe tbody tr th {\n",
       "        vertical-align: top;\n",
       "    }\n",
       "\n",
       "    .dataframe thead th {\n",
       "        text-align: right;\n",
       "    }\n",
       "</style>\n",
       "<table border=\"1\" class=\"dataframe\">\n",
       "  <thead>\n",
       "    <tr style=\"text-align: right;\">\n",
       "      <th></th>\n",
       "      <th>user_id</th>\n",
       "      <th>poi_id</th>\n",
       "      <th>time_utc</th>\n",
       "      <th>time_offset</th>\n",
       "      <th>local_time</th>\n",
       "      <th>hour</th>\n",
       "      <th>dow</th>\n",
       "      <th>weekend</th>\n",
       "      <th>lat</th>\n",
       "      <th>lon</th>\n",
       "      <th>category</th>\n",
       "      <th>country</th>\n",
       "      <th>city</th>\n",
       "      <th>admin1</th>\n",
       "    </tr>\n",
       "  </thead>\n",
       "  <tbody>\n",
       "    <tr>\n",
       "      <th>0</th>\n",
       "      <td>208842</td>\n",
       "      <td>4b4606f2f964a520751426e3</td>\n",
       "      <td>Tue Apr 03 18:00:08 +0000 2012</td>\n",
       "      <td>-300</td>\n",
       "      <td>2012-04-03 13:00:08+00:00</td>\n",
       "      <td>13</td>\n",
       "      <td>Tue</td>\n",
       "      <td>0</td>\n",
       "      <td>30.270786</td>\n",
       "      <td>-97.753151</td>\n",
       "      <td>Office</td>\n",
       "      <td>US</td>\n",
       "      <td>Austin</td>\n",
       "      <td>Texas</td>\n",
       "    </tr>\n",
       "    <tr>\n",
       "      <th>1</th>\n",
       "      <td>208842</td>\n",
       "      <td>4b4606f2f964a520751426e3</td>\n",
       "      <td>Wed Apr 04 19:20:35 +0000 2012</td>\n",
       "      <td>-300</td>\n",
       "      <td>2012-04-04 14:20:35+00:00</td>\n",
       "      <td>14</td>\n",
       "      <td>Wed</td>\n",
       "      <td>0</td>\n",
       "      <td>30.270786</td>\n",
       "      <td>-97.753151</td>\n",
       "      <td>Office</td>\n",
       "      <td>US</td>\n",
       "      <td>Austin</td>\n",
       "      <td>Texas</td>\n",
       "    </tr>\n",
       "    <tr>\n",
       "      <th>2</th>\n",
       "      <td>208842</td>\n",
       "      <td>4b4606f2f964a520751426e3</td>\n",
       "      <td>Mon Apr 09 13:57:42 +0000 2012</td>\n",
       "      <td>-300</td>\n",
       "      <td>2012-04-09 08:57:42+00:00</td>\n",
       "      <td>08</td>\n",
       "      <td>Mon</td>\n",
       "      <td>0</td>\n",
       "      <td>30.270786</td>\n",
       "      <td>-97.753151</td>\n",
       "      <td>Office</td>\n",
       "      <td>US</td>\n",
       "      <td>Austin</td>\n",
       "      <td>Texas</td>\n",
       "    </tr>\n",
       "    <tr>\n",
       "      <th>3</th>\n",
       "      <td>208842</td>\n",
       "      <td>4b4606f2f964a520751426e3</td>\n",
       "      <td>Thu Apr 12 13:27:53 +0000 2012</td>\n",
       "      <td>-300</td>\n",
       "      <td>2012-04-12 08:27:53+00:00</td>\n",
       "      <td>08</td>\n",
       "      <td>Thu</td>\n",
       "      <td>0</td>\n",
       "      <td>30.270786</td>\n",
       "      <td>-97.753151</td>\n",
       "      <td>Office</td>\n",
       "      <td>US</td>\n",
       "      <td>Austin</td>\n",
       "      <td>Texas</td>\n",
       "    </tr>\n",
       "    <tr>\n",
       "      <th>4</th>\n",
       "      <td>208842</td>\n",
       "      <td>4b4606f2f964a520751426e3</td>\n",
       "      <td>Fri Apr 13 15:41:49 +0000 2012</td>\n",
       "      <td>-300</td>\n",
       "      <td>2012-04-13 10:41:49+00:00</td>\n",
       "      <td>10</td>\n",
       "      <td>Fri</td>\n",
       "      <td>0</td>\n",
       "      <td>30.270786</td>\n",
       "      <td>-97.753151</td>\n",
       "      <td>Office</td>\n",
       "      <td>US</td>\n",
       "      <td>Austin</td>\n",
       "      <td>Texas</td>\n",
       "    </tr>\n",
       "  </tbody>\n",
       "</table>\n",
       "</div>"
      ],
      "text/plain": [
       "   user_id                    poi_id                        time_utc  \\\n",
       "0   208842  4b4606f2f964a520751426e3  Tue Apr 03 18:00:08 +0000 2012   \n",
       "1   208842  4b4606f2f964a520751426e3  Wed Apr 04 19:20:35 +0000 2012   \n",
       "2   208842  4b4606f2f964a520751426e3  Mon Apr 09 13:57:42 +0000 2012   \n",
       "3   208842  4b4606f2f964a520751426e3  Thu Apr 12 13:27:53 +0000 2012   \n",
       "4   208842  4b4606f2f964a520751426e3  Fri Apr 13 15:41:49 +0000 2012   \n",
       "\n",
       "   time_offset                local_time hour  dow  weekend        lat  \\\n",
       "0         -300 2012-04-03 13:00:08+00:00   13  Tue        0  30.270786   \n",
       "1         -300 2012-04-04 14:20:35+00:00   14  Wed        0  30.270786   \n",
       "2         -300 2012-04-09 08:57:42+00:00   08  Mon        0  30.270786   \n",
       "3         -300 2012-04-12 08:27:53+00:00   08  Thu        0  30.270786   \n",
       "4         -300 2012-04-13 10:41:49+00:00   10  Fri        0  30.270786   \n",
       "\n",
       "         lon category country    city admin1  \n",
       "0 -97.753151   Office      US  Austin  Texas  \n",
       "1 -97.753151   Office      US  Austin  Texas  \n",
       "2 -97.753151   Office      US  Austin  Texas  \n",
       "3 -97.753151   Office      US  Austin  Texas  \n",
       "4 -97.753151   Office      US  Austin  Texas  "
      ]
     },
     "execution_count": 8,
     "metadata": {},
     "output_type": "execute_result"
    }
   ],
   "source": [
    "df = df_check.merge(df_poi, how='inner', on=\"poi_id\")\n",
    "df.head()"
   ]
  },
  {
   "cell_type": "code",
   "execution_count": 13,
   "metadata": {
    "ExecuteTime": {
     "end_time": "2019-05-11T21:17:13.612699Z",
     "start_time": "2019-05-11T21:16:58.662503Z"
    }
   },
   "outputs": [],
   "source": [
    "df_sub = df[df.admin1.isin(us_state_abbrev.keys())]\n",
    "df_sub = df_sub[[\"user_id\", \"lat\", \"lon\", \"city\", \"admin1\", \"weekend\", \"dow\", \"local_time\"]]\n",
    "df_sub = df_sub.sort_values(\"local_time\")\n",
    "\n",
    "df_sub = pd.merge_asof(df_sub, df_sub, by='user_id', on='local_time', direction='forward', allow_exact_matches=False)"
   ]
  },
  {
   "cell_type": "code",
   "execution_count": 14,
   "metadata": {
    "ExecuteTime": {
     "end_time": "2019-05-11T21:17:14.789002Z",
     "start_time": "2019-05-11T21:17:14.774886Z"
    }
   },
   "outputs": [
    {
     "data": {
      "text/html": [
       "<div>\n",
       "<style scoped>\n",
       "    .dataframe tbody tr th:only-of-type {\n",
       "        vertical-align: middle;\n",
       "    }\n",
       "\n",
       "    .dataframe tbody tr th {\n",
       "        vertical-align: top;\n",
       "    }\n",
       "\n",
       "    .dataframe thead th {\n",
       "        text-align: right;\n",
       "    }\n",
       "</style>\n",
       "<table border=\"1\" class=\"dataframe\">\n",
       "  <thead>\n",
       "    <tr style=\"text-align: right;\">\n",
       "      <th></th>\n",
       "      <th>user_id</th>\n",
       "      <th>lat_x</th>\n",
       "      <th>lon_x</th>\n",
       "      <th>city_x</th>\n",
       "      <th>admin1_x</th>\n",
       "      <th>weekend_x</th>\n",
       "      <th>dow_x</th>\n",
       "      <th>local_time</th>\n",
       "      <th>lat_y</th>\n",
       "      <th>lon_y</th>\n",
       "      <th>city_y</th>\n",
       "      <th>admin1_y</th>\n",
       "      <th>weekend_y</th>\n",
       "      <th>dow_y</th>\n",
       "    </tr>\n",
       "  </thead>\n",
       "  <tbody>\n",
       "    <tr>\n",
       "      <th>0</th>\n",
       "      <td>84367</td>\n",
       "      <td>21.297764</td>\n",
       "      <td>-157.862762</td>\n",
       "      <td>Honolulu</td>\n",
       "      <td>Hawaii</td>\n",
       "      <td>0</td>\n",
       "      <td>Tue</td>\n",
       "      <td>2012-04-03 08:03:13+00:00</td>\n",
       "      <td>21.308130</td>\n",
       "      <td>-157.861877</td>\n",
       "      <td>Honolulu</td>\n",
       "      <td>Hawaii</td>\n",
       "      <td>0.0</td>\n",
       "      <td>Mon</td>\n",
       "    </tr>\n",
       "    <tr>\n",
       "      <th>1</th>\n",
       "      <td>854</td>\n",
       "      <td>19.726234</td>\n",
       "      <td>-155.069199</td>\n",
       "      <td>Hilo</td>\n",
       "      <td>Hawaii</td>\n",
       "      <td>0</td>\n",
       "      <td>Tue</td>\n",
       "      <td>2012-04-03 08:05:34+00:00</td>\n",
       "      <td>19.728186</td>\n",
       "      <td>-155.066772</td>\n",
       "      <td>Hilo</td>\n",
       "      <td>Hawaii</td>\n",
       "      <td>0.0</td>\n",
       "      <td>Tue</td>\n",
       "    </tr>\n",
       "    <tr>\n",
       "      <th>2</th>\n",
       "      <td>182093</td>\n",
       "      <td>21.290558</td>\n",
       "      <td>-157.836334</td>\n",
       "      <td>Honolulu</td>\n",
       "      <td>Hawaii</td>\n",
       "      <td>0</td>\n",
       "      <td>Tue</td>\n",
       "      <td>2012-04-03 08:08:49+00:00</td>\n",
       "      <td>21.307188</td>\n",
       "      <td>-157.861313</td>\n",
       "      <td>Honolulu</td>\n",
       "      <td>Hawaii</td>\n",
       "      <td>0.0</td>\n",
       "      <td>Wed</td>\n",
       "    </tr>\n",
       "    <tr>\n",
       "      <th>3</th>\n",
       "      <td>179154</td>\n",
       "      <td>21.345556</td>\n",
       "      <td>-158.049530</td>\n",
       "      <td>'Ewa Villages</td>\n",
       "      <td>Hawaii</td>\n",
       "      <td>0</td>\n",
       "      <td>Tue</td>\n",
       "      <td>2012-04-03 08:19:30+00:00</td>\n",
       "      <td>21.419685</td>\n",
       "      <td>-157.803375</td>\n",
       "      <td>He'eia</td>\n",
       "      <td>Hawaii</td>\n",
       "      <td>0.0</td>\n",
       "      <td>Tue</td>\n",
       "    </tr>\n",
       "    <tr>\n",
       "      <th>4</th>\n",
       "      <td>260630</td>\n",
       "      <td>21.388374</td>\n",
       "      <td>-157.953476</td>\n",
       "      <td>Waimalu</td>\n",
       "      <td>Hawaii</td>\n",
       "      <td>0</td>\n",
       "      <td>Tue</td>\n",
       "      <td>2012-04-03 08:28:14+00:00</td>\n",
       "      <td>21.392031</td>\n",
       "      <td>-157.946396</td>\n",
       "      <td>Waimalu</td>\n",
       "      <td>Hawaii</td>\n",
       "      <td>0.0</td>\n",
       "      <td>Tue</td>\n",
       "    </tr>\n",
       "  </tbody>\n",
       "</table>\n",
       "</div>"
      ],
      "text/plain": [
       "   user_id      lat_x       lon_x         city_x admin1_x  weekend_x dow_x  \\\n",
       "0    84367  21.297764 -157.862762       Honolulu   Hawaii          0   Tue   \n",
       "1      854  19.726234 -155.069199           Hilo   Hawaii          0   Tue   \n",
       "2   182093  21.290558 -157.836334       Honolulu   Hawaii          0   Tue   \n",
       "3   179154  21.345556 -158.049530  'Ewa Villages   Hawaii          0   Tue   \n",
       "4   260630  21.388374 -157.953476        Waimalu   Hawaii          0   Tue   \n",
       "\n",
       "                 local_time      lat_y       lon_y    city_y admin1_y  \\\n",
       "0 2012-04-03 08:03:13+00:00  21.308130 -157.861877  Honolulu   Hawaii   \n",
       "1 2012-04-03 08:05:34+00:00  19.728186 -155.066772      Hilo   Hawaii   \n",
       "2 2012-04-03 08:08:49+00:00  21.307188 -157.861313  Honolulu   Hawaii   \n",
       "3 2012-04-03 08:19:30+00:00  21.419685 -157.803375    He'eia   Hawaii   \n",
       "4 2012-04-03 08:28:14+00:00  21.392031 -157.946396   Waimalu   Hawaii   \n",
       "\n",
       "   weekend_y dow_y  \n",
       "0        0.0   Mon  \n",
       "1        0.0   Tue  \n",
       "2        0.0   Wed  \n",
       "3        0.0   Tue  \n",
       "4        0.0   Tue  "
      ]
     },
     "execution_count": 14,
     "metadata": {},
     "output_type": "execute_result"
    }
   ],
   "source": [
    "df_sub.head()"
   ]
  },
  {
   "cell_type": "code",
   "execution_count": 15,
   "metadata": {
    "ExecuteTime": {
     "end_time": "2019-05-11T21:17:20.892595Z",
     "start_time": "2019-05-11T21:17:17.842734Z"
    }
   },
   "outputs": [],
   "source": [
    "# df_sub.to_pickle(\"df_sub.pickle\")"
   ]
  },
  {
   "cell_type": "code",
   "execution_count": 14,
   "metadata": {
    "ExecuteTime": {
     "end_time": "2019-05-11T21:39:43.889523Z",
     "start_time": "2019-05-11T21:39:43.091328Z"
    }
   },
   "outputs": [
    {
     "data": {
      "text/html": [
       "<div>\n",
       "<style scoped>\n",
       "    .dataframe tbody tr th:only-of-type {\n",
       "        vertical-align: middle;\n",
       "    }\n",
       "\n",
       "    .dataframe tbody tr th {\n",
       "        vertical-align: top;\n",
       "    }\n",
       "\n",
       "    .dataframe thead th {\n",
       "        text-align: right;\n",
       "    }\n",
       "</style>\n",
       "<table border=\"1\" class=\"dataframe\">\n",
       "  <thead>\n",
       "    <tr style=\"text-align: right;\">\n",
       "      <th></th>\n",
       "      <th>user_id</th>\n",
       "      <th>lat_x</th>\n",
       "      <th>lon_x</th>\n",
       "      <th>city_x</th>\n",
       "      <th>admin1_x</th>\n",
       "      <th>weekend_x</th>\n",
       "      <th>dow_x</th>\n",
       "      <th>local_time</th>\n",
       "      <th>lat_y</th>\n",
       "      <th>lon_y</th>\n",
       "      <th>city_y</th>\n",
       "      <th>admin1_y</th>\n",
       "      <th>weekend_y</th>\n",
       "      <th>dow_y</th>\n",
       "    </tr>\n",
       "  </thead>\n",
       "  <tbody>\n",
       "    <tr>\n",
       "      <th>0</th>\n",
       "      <td>84367</td>\n",
       "      <td>21.297764</td>\n",
       "      <td>-157.862762</td>\n",
       "      <td>Honolulu</td>\n",
       "      <td>Hawaii</td>\n",
       "      <td>0</td>\n",
       "      <td>Tue</td>\n",
       "      <td>2012-04-03 08:03:13+00:00</td>\n",
       "      <td>21.308130</td>\n",
       "      <td>-157.861877</td>\n",
       "      <td>Honolulu</td>\n",
       "      <td>Hawaii</td>\n",
       "      <td>0.0</td>\n",
       "      <td>Mon</td>\n",
       "    </tr>\n",
       "    <tr>\n",
       "      <th>1</th>\n",
       "      <td>854</td>\n",
       "      <td>19.726234</td>\n",
       "      <td>-155.069199</td>\n",
       "      <td>Hilo</td>\n",
       "      <td>Hawaii</td>\n",
       "      <td>0</td>\n",
       "      <td>Tue</td>\n",
       "      <td>2012-04-03 08:05:34+00:00</td>\n",
       "      <td>19.728186</td>\n",
       "      <td>-155.066772</td>\n",
       "      <td>Hilo</td>\n",
       "      <td>Hawaii</td>\n",
       "      <td>0.0</td>\n",
       "      <td>Tue</td>\n",
       "    </tr>\n",
       "    <tr>\n",
       "      <th>2</th>\n",
       "      <td>182093</td>\n",
       "      <td>21.290558</td>\n",
       "      <td>-157.836334</td>\n",
       "      <td>Honolulu</td>\n",
       "      <td>Hawaii</td>\n",
       "      <td>0</td>\n",
       "      <td>Tue</td>\n",
       "      <td>2012-04-03 08:08:49+00:00</td>\n",
       "      <td>21.307188</td>\n",
       "      <td>-157.861313</td>\n",
       "      <td>Honolulu</td>\n",
       "      <td>Hawaii</td>\n",
       "      <td>0.0</td>\n",
       "      <td>Wed</td>\n",
       "    </tr>\n",
       "    <tr>\n",
       "      <th>3</th>\n",
       "      <td>179154</td>\n",
       "      <td>21.345556</td>\n",
       "      <td>-158.049530</td>\n",
       "      <td>'Ewa Villages</td>\n",
       "      <td>Hawaii</td>\n",
       "      <td>0</td>\n",
       "      <td>Tue</td>\n",
       "      <td>2012-04-03 08:19:30+00:00</td>\n",
       "      <td>21.419685</td>\n",
       "      <td>-157.803375</td>\n",
       "      <td>He'eia</td>\n",
       "      <td>Hawaii</td>\n",
       "      <td>0.0</td>\n",
       "      <td>Tue</td>\n",
       "    </tr>\n",
       "    <tr>\n",
       "      <th>4</th>\n",
       "      <td>260630</td>\n",
       "      <td>21.388374</td>\n",
       "      <td>-157.953476</td>\n",
       "      <td>Waimalu</td>\n",
       "      <td>Hawaii</td>\n",
       "      <td>0</td>\n",
       "      <td>Tue</td>\n",
       "      <td>2012-04-03 08:28:14+00:00</td>\n",
       "      <td>21.392031</td>\n",
       "      <td>-157.946396</td>\n",
       "      <td>Waimalu</td>\n",
       "      <td>Hawaii</td>\n",
       "      <td>0.0</td>\n",
       "      <td>Tue</td>\n",
       "    </tr>\n",
       "  </tbody>\n",
       "</table>\n",
       "</div>"
      ],
      "text/plain": [
       "   user_id      lat_x       lon_x         city_x admin1_x  weekend_x dow_x  \\\n",
       "0    84367  21.297764 -157.862762       Honolulu   Hawaii          0   Tue   \n",
       "1      854  19.726234 -155.069199           Hilo   Hawaii          0   Tue   \n",
       "2   182093  21.290558 -157.836334       Honolulu   Hawaii          0   Tue   \n",
       "3   179154  21.345556 -158.049530  'Ewa Villages   Hawaii          0   Tue   \n",
       "4   260630  21.388374 -157.953476        Waimalu   Hawaii          0   Tue   \n",
       "\n",
       "                 local_time      lat_y       lon_y    city_y admin1_y  \\\n",
       "0 2012-04-03 08:03:13+00:00  21.308130 -157.861877  Honolulu   Hawaii   \n",
       "1 2012-04-03 08:05:34+00:00  19.728186 -155.066772      Hilo   Hawaii   \n",
       "2 2012-04-03 08:08:49+00:00  21.307188 -157.861313  Honolulu   Hawaii   \n",
       "3 2012-04-03 08:19:30+00:00  21.419685 -157.803375    He'eia   Hawaii   \n",
       "4 2012-04-03 08:28:14+00:00  21.392031 -157.946396   Waimalu   Hawaii   \n",
       "\n",
       "   weekend_y dow_y  \n",
       "0        0.0   Mon  \n",
       "1        0.0   Tue  \n",
       "2        0.0   Wed  \n",
       "3        0.0   Tue  \n",
       "4        0.0   Tue  "
      ]
     },
     "execution_count": 14,
     "metadata": {},
     "output_type": "execute_result"
    }
   ],
   "source": [
    "df_sub = pd.read_pickle(\"df_sub.pickle\")\n",
    "df_sub.head()"
   ]
  },
  {
   "cell_type": "code",
   "execution_count": 3,
   "metadata": {
    "ExecuteTime": {
     "end_time": "2019-05-11T21:34:28.942254Z",
     "start_time": "2019-05-11T21:34:27.790148Z"
    }
   },
   "outputs": [
    {
     "data": {
      "text/html": [
       "<div>\n",
       "<style scoped>\n",
       "    .dataframe tbody tr th:only-of-type {\n",
       "        vertical-align: middle;\n",
       "    }\n",
       "\n",
       "    .dataframe tbody tr th {\n",
       "        vertical-align: top;\n",
       "    }\n",
       "\n",
       "    .dataframe thead th {\n",
       "        text-align: right;\n",
       "    }\n",
       "</style>\n",
       "<table border=\"1\" class=\"dataframe\">\n",
       "  <thead>\n",
       "    <tr style=\"text-align: right;\">\n",
       "      <th></th>\n",
       "      <th>user_id</th>\n",
       "      <th>lat_x</th>\n",
       "      <th>lon_x</th>\n",
       "      <th>city_x</th>\n",
       "      <th>admin1_x</th>\n",
       "      <th>weekend_x</th>\n",
       "      <th>dow_x</th>\n",
       "      <th>local_time</th>\n",
       "      <th>lat_y</th>\n",
       "      <th>lon_y</th>\n",
       "      <th>city_y</th>\n",
       "      <th>admin1_y</th>\n",
       "      <th>weekend_y</th>\n",
       "      <th>dow_y</th>\n",
       "    </tr>\n",
       "  </thead>\n",
       "  <tbody>\n",
       "    <tr>\n",
       "      <th>67</th>\n",
       "      <td>58328</td>\n",
       "      <td>37.794254</td>\n",
       "      <td>-122.400429</td>\n",
       "      <td>San Francisco</td>\n",
       "      <td>California</td>\n",
       "      <td>0</td>\n",
       "      <td>Tue</td>\n",
       "      <td>2012-04-03 11:13:39+00:00</td>\n",
       "      <td>36.083649</td>\n",
       "      <td>-115.149849</td>\n",
       "      <td>Paradise</td>\n",
       "      <td>Nevada</td>\n",
       "      <td>1.0</td>\n",
       "      <td>Sun</td>\n",
       "    </tr>\n",
       "    <tr>\n",
       "      <th>81</th>\n",
       "      <td>263247</td>\n",
       "      <td>33.255985</td>\n",
       "      <td>-111.639030</td>\n",
       "      <td>Queen Creek</td>\n",
       "      <td>Arizona</td>\n",
       "      <td>0</td>\n",
       "      <td>Tue</td>\n",
       "      <td>2012-04-03 11:18:51+00:00</td>\n",
       "      <td>33.387794</td>\n",
       "      <td>-111.836464</td>\n",
       "      <td>Mesa</td>\n",
       "      <td>Arizona</td>\n",
       "      <td>1.0</td>\n",
       "      <td>Sat</td>\n",
       "    </tr>\n",
       "    <tr>\n",
       "      <th>82</th>\n",
       "      <td>25107</td>\n",
       "      <td>47.443645</td>\n",
       "      <td>-122.302597</td>\n",
       "      <td>SeaTac</td>\n",
       "      <td>Washington</td>\n",
       "      <td>0</td>\n",
       "      <td>Tue</td>\n",
       "      <td>2012-04-03 11:19:05+00:00</td>\n",
       "      <td>47.607685</td>\n",
       "      <td>-122.325783</td>\n",
       "      <td>Seattle</td>\n",
       "      <td>Washington</td>\n",
       "      <td>1.0</td>\n",
       "      <td>Sun</td>\n",
       "    </tr>\n",
       "    <tr>\n",
       "      <th>85</th>\n",
       "      <td>437870</td>\n",
       "      <td>33.191254</td>\n",
       "      <td>-117.274048</td>\n",
       "      <td>Vista</td>\n",
       "      <td>California</td>\n",
       "      <td>0</td>\n",
       "      <td>Tue</td>\n",
       "      <td>2012-04-03 11:19:40+00:00</td>\n",
       "      <td>33.071484</td>\n",
       "      <td>-117.267227</td>\n",
       "      <td>Encinitas</td>\n",
       "      <td>California</td>\n",
       "      <td>1.0</td>\n",
       "      <td>Sat</td>\n",
       "    </tr>\n",
       "    <tr>\n",
       "      <th>104</th>\n",
       "      <td>172075</td>\n",
       "      <td>37.776039</td>\n",
       "      <td>-122.402443</td>\n",
       "      <td>San Francisco</td>\n",
       "      <td>California</td>\n",
       "      <td>0</td>\n",
       "      <td>Tue</td>\n",
       "      <td>2012-04-03 11:24:41+00:00</td>\n",
       "      <td>37.760334</td>\n",
       "      <td>-122.505371</td>\n",
       "      <td>Daly City</td>\n",
       "      <td>California</td>\n",
       "      <td>1.0</td>\n",
       "      <td>Sat</td>\n",
       "    </tr>\n",
       "  </tbody>\n",
       "</table>\n",
       "</div>"
      ],
      "text/plain": [
       "     user_id      lat_x       lon_x         city_x    admin1_x  weekend_x  \\\n",
       "67     58328  37.794254 -122.400429  San Francisco  California          0   \n",
       "81    263247  33.255985 -111.639030    Queen Creek     Arizona          0   \n",
       "82     25107  47.443645 -122.302597         SeaTac  Washington          0   \n",
       "85    437870  33.191254 -117.274048          Vista  California          0   \n",
       "104   172075  37.776039 -122.402443  San Francisco  California          0   \n",
       "\n",
       "    dow_x                local_time      lat_y       lon_y     city_y  \\\n",
       "67    Tue 2012-04-03 11:13:39+00:00  36.083649 -115.149849   Paradise   \n",
       "81    Tue 2012-04-03 11:18:51+00:00  33.387794 -111.836464       Mesa   \n",
       "82    Tue 2012-04-03 11:19:05+00:00  47.607685 -122.325783    Seattle   \n",
       "85    Tue 2012-04-03 11:19:40+00:00  33.071484 -117.267227  Encinitas   \n",
       "104   Tue 2012-04-03 11:24:41+00:00  37.760334 -122.505371  Daly City   \n",
       "\n",
       "       admin1_y  weekend_y dow_y  \n",
       "67       Nevada        1.0   Sun  \n",
       "81      Arizona        1.0   Sat  \n",
       "82   Washington        1.0   Sun  \n",
       "85   California        1.0   Sat  \n",
       "104  California        1.0   Sat  "
      ]
     },
     "execution_count": 3,
     "metadata": {},
     "output_type": "execute_result"
    }
   ],
   "source": [
    "df_sub = df_sub[np.logical_and(df_sub.weekend_x==0, df_sub.weekend_y==1)]\n",
    "df_sub = df_sub[df_sub.city_x != df_sub.city_y]\n",
    "df_sub.head()"
   ]
  },
  {
   "cell_type": "code",
   "execution_count": 33,
   "metadata": {
    "ExecuteTime": {
     "end_time": "2019-05-11T21:21:22.801482Z",
     "start_time": "2019-05-11T21:21:22.761594Z"
    }
   },
   "outputs": [
    {
     "data": {
      "text/html": [
       "<div>\n",
       "<style scoped>\n",
       "    .dataframe tbody tr th:only-of-type {\n",
       "        vertical-align: middle;\n",
       "    }\n",
       "\n",
       "    .dataframe tbody tr th {\n",
       "        vertical-align: top;\n",
       "    }\n",
       "\n",
       "    .dataframe thead th {\n",
       "        text-align: right;\n",
       "    }\n",
       "</style>\n",
       "<table border=\"1\" class=\"dataframe\">\n",
       "  <thead>\n",
       "    <tr style=\"text-align: right;\">\n",
       "      <th></th>\n",
       "      <th>city_x</th>\n",
       "      <th>city_y</th>\n",
       "      <th>dow_x</th>\n",
       "    </tr>\n",
       "  </thead>\n",
       "  <tbody>\n",
       "    <tr>\n",
       "      <th>33420</th>\n",
       "      <td>Zionsville</td>\n",
       "      <td>Portland</td>\n",
       "      <td>1</td>\n",
       "    </tr>\n",
       "    <tr>\n",
       "      <th>33421</th>\n",
       "      <td>Zionsville</td>\n",
       "      <td>St. Louis</td>\n",
       "      <td>1</td>\n",
       "    </tr>\n",
       "    <tr>\n",
       "      <th>33422</th>\n",
       "      <td>Zionsville</td>\n",
       "      <td>Tampa</td>\n",
       "      <td>1</td>\n",
       "    </tr>\n",
       "    <tr>\n",
       "      <th>33423</th>\n",
       "      <td>Zionsville</td>\n",
       "      <td>Warwick</td>\n",
       "      <td>1</td>\n",
       "    </tr>\n",
       "    <tr>\n",
       "      <th>33424</th>\n",
       "      <td>Zionsville</td>\n",
       "      <td>Washington, D.C.</td>\n",
       "      <td>1</td>\n",
       "    </tr>\n",
       "  </tbody>\n",
       "</table>\n",
       "</div>"
      ],
      "text/plain": [
       "           city_x            city_y  dow_x\n",
       "33420  Zionsville          Portland      1\n",
       "33421  Zionsville         St. Louis      1\n",
       "33422  Zionsville             Tampa      1\n",
       "33423  Zionsville           Warwick      1\n",
       "33424  Zionsville  Washington, D.C.      1"
      ]
     },
     "execution_count": 33,
     "metadata": {},
     "output_type": "execute_result"
    }
   ],
   "source": [
    "df_sub[[\"city_x\", \"city_y\", \"dow_x\"]].groupby([\"city_x\", \"city_y\"]).count().reset_index()"
   ]
  },
  {
   "cell_type": "code",
   "execution_count": 4,
   "metadata": {
    "ExecuteTime": {
     "end_time": "2019-05-11T21:34:36.370555Z",
     "start_time": "2019-05-11T21:34:35.962274Z"
    }
   },
   "outputs": [],
   "source": [
    "df_paths = df_sub[[\"city_x\", \"city_y\", \"dow_x\", \"lat_x\", \"lat_y\", \"lon_x\", \"lon_y\"]].groupby([\"city_x\", \"city_y\"])\\\n",
    ".agg({'dow_x':'count', 'lat_x':'median', 'lat_y':'median', 'lon_x':'median', 'lon_y':'median'}).reset_index()\n",
    "\n",
    "cols = df_paths.columns.tolist()\n",
    "cols[2] = \"n\"\n",
    "df_paths.columns = cols"
   ]
  },
  {
   "cell_type": "code",
   "execution_count": 3,
   "metadata": {
    "ExecuteTime": {
     "end_time": "2019-05-11T21:49:08.236440Z",
     "start_time": "2019-05-11T21:49:08.050663Z"
    }
   },
   "outputs": [],
   "source": [
    "df_paths = pd.read_pickle(\"df_paths.pickle\")"
   ]
  },
  {
   "cell_type": "code",
   "execution_count": 4,
   "metadata": {
    "ExecuteTime": {
     "end_time": "2019-05-11T21:49:14.579089Z",
     "start_time": "2019-05-11T21:49:09.006700Z"
    }
   },
   "outputs": [],
   "source": [
    "df_paths = df_paths.sort_values(\"n\", ascending=False)\n",
    "df_paths[\"miles\"] = df_paths.apply(lambda row: \n",
    "                               great_circle((row.lat_x, row.lon_x), (row.lat_y, row.lon_y)).miles, axis=1)"
   ]
  },
  {
   "cell_type": "code",
   "execution_count": 5,
   "metadata": {
    "ExecuteTime": {
     "end_time": "2019-05-11T21:49:14.625314Z",
     "start_time": "2019-05-11T21:49:14.580272Z"
    }
   },
   "outputs": [
    {
     "data": {
      "text/plain": [
       "count    110300.000000\n",
       "mean        198.014056\n",
       "std         460.915732\n",
       "min           0.013000\n",
       "25%           9.893144\n",
       "50%          25.794488\n",
       "75%         122.452050\n",
       "max        5083.182998\n",
       "Name: miles, dtype: float64"
      ]
     },
     "execution_count": 5,
     "metadata": {},
     "output_type": "execute_result"
    }
   ],
   "source": [
    "df_paths.miles.describe()"
   ]
  },
  {
   "cell_type": "code",
   "execution_count": 6,
   "metadata": {
    "ExecuteTime": {
     "end_time": "2019-05-11T21:49:14.635473Z",
     "start_time": "2019-05-11T21:49:14.626495Z"
    }
   },
   "outputs": [],
   "source": [
    "df_paths = df_paths[df_paths.miles>=50].sort_values(\"n\", ascending=False)\n",
    "df_paths = df_paths.head(100)\n"
   ]
  },
  {
   "cell_type": "code",
   "execution_count": 20,
   "metadata": {
    "ExecuteTime": {
     "end_time": "2019-05-11T22:00:58.069216Z",
     "start_time": "2019-05-11T22:00:58.057259Z"
    }
   },
   "outputs": [
    {
     "data": {
      "text/html": [
       "<div>\n",
       "<style scoped>\n",
       "    .dataframe tbody tr th:only-of-type {\n",
       "        vertical-align: middle;\n",
       "    }\n",
       "\n",
       "    .dataframe tbody tr th {\n",
       "        vertical-align: top;\n",
       "    }\n",
       "\n",
       "    .dataframe thead th {\n",
       "        text-align: right;\n",
       "    }\n",
       "</style>\n",
       "<table border=\"1\" class=\"dataframe\">\n",
       "  <thead>\n",
       "    <tr style=\"text-align: right;\">\n",
       "      <th></th>\n",
       "      <th>city_x</th>\n",
       "      <th>city_y</th>\n",
       "      <th>n</th>\n",
       "      <th>lat_x</th>\n",
       "      <th>lat_y</th>\n",
       "      <th>lon_x</th>\n",
       "      <th>lon_y</th>\n",
       "      <th>miles</th>\n",
       "    </tr>\n",
       "  </thead>\n",
       "  <tbody>\n",
       "    <tr>\n",
       "      <th>67433</th>\n",
       "      <td>New York City</td>\n",
       "      <td>Washington, D.C.</td>\n",
       "      <td>60</td>\n",
       "      <td>40.726265</td>\n",
       "      <td>38.899612</td>\n",
       "      <td>-73.993149</td>\n",
       "      <td>-77.031189</td>\n",
       "      <td>204.737870</td>\n",
       "    </tr>\n",
       "    <tr>\n",
       "      <th>67205</th>\n",
       "      <td>New York City</td>\n",
       "      <td>Philadelphia</td>\n",
       "      <td>53</td>\n",
       "      <td>40.728279</td>\n",
       "      <td>39.953140</td>\n",
       "      <td>-73.993134</td>\n",
       "      <td>-75.163055</td>\n",
       "      <td>81.634481</td>\n",
       "    </tr>\n",
       "    <tr>\n",
       "      <th>102815</th>\n",
       "      <td>Washington, D.C.</td>\n",
       "      <td>New York City</td>\n",
       "      <td>51</td>\n",
       "      <td>38.899055</td>\n",
       "      <td>40.724171</td>\n",
       "      <td>-77.023819</td>\n",
       "      <td>-73.995857</td>\n",
       "      <td>204.253946</td>\n",
       "    </tr>\n",
       "    <tr>\n",
       "      <th>102745</th>\n",
       "      <td>Washington, D.C.</td>\n",
       "      <td>Manhattan</td>\n",
       "      <td>39</td>\n",
       "      <td>38.902031</td>\n",
       "      <td>40.763920</td>\n",
       "      <td>-77.024124</td>\n",
       "      <td>-73.976326</td>\n",
       "      <td>206.614952</td>\n",
       "    </tr>\n",
       "    <tr>\n",
       "      <th>57683</th>\n",
       "      <td>Manhattan</td>\n",
       "      <td>Washington, D.C.</td>\n",
       "      <td>39</td>\n",
       "      <td>40.761787</td>\n",
       "      <td>38.899357</td>\n",
       "      <td>-73.983650</td>\n",
       "      <td>-77.032616</td>\n",
       "      <td>206.691127</td>\n",
       "    </tr>\n",
       "  </tbody>\n",
       "</table>\n",
       "</div>"
      ],
      "text/plain": [
       "                  city_x            city_y   n      lat_x      lat_y  \\\n",
       "67433      New York City  Washington, D.C.  60  40.726265  38.899612   \n",
       "67205      New York City      Philadelphia  53  40.728279  39.953140   \n",
       "102815  Washington, D.C.     New York City  51  38.899055  40.724171   \n",
       "102745  Washington, D.C.         Manhattan  39  38.902031  40.763920   \n",
       "57683          Manhattan  Washington, D.C.  39  40.761787  38.899357   \n",
       "\n",
       "            lon_x      lon_y       miles  \n",
       "67433  -73.993149 -77.031189  204.737870  \n",
       "67205  -73.993134 -75.163055   81.634481  \n",
       "102815 -77.023819 -73.995857  204.253946  \n",
       "102745 -77.024124 -73.976326  206.614952  \n",
       "57683  -73.983650 -77.032616  206.691127  "
      ]
     },
     "execution_count": 20,
     "metadata": {},
     "output_type": "execute_result"
    }
   ],
   "source": [
    "df_paths.head()"
   ]
  },
  {
   "cell_type": "code",
   "execution_count": null,
   "metadata": {},
   "outputs": [],
   "source": [
    "go.scattergeo.Line()"
   ]
  },
  {
   "cell_type": "code",
   "execution_count": 24,
   "metadata": {
    "ExecuteTime": {
     "end_time": "2019-05-11T22:04:30.789825Z",
     "start_time": "2019-05-11T22:04:28.762445Z"
    }
   },
   "outputs": [
    {
     "data": {
      "text/html": [
       "<iframe id=\"igraph\" scrolling=\"no\" style=\"border:none;\" seamless=\"seamless\" src=\"https://plot.ly/~juliausf/30.embed\" height=\"525px\" width=\"100%\"></iframe>"
      ],
      "text/plain": [
       "<chart_studio.tools.PlotlyDisplay object>"
      ]
     },
     "execution_count": 24,
     "metadata": {},
     "output_type": "execute_result"
    }
   ],
   "source": [
    "paths = []\n",
    "for i, row in df_paths.iterrows():\n",
    "    paths.append(\n",
    "        go.Scattergeo(\n",
    "            locationmode = 'USA-states',\n",
    "            lon = [row.lon_x, row.lon_y],\n",
    "            lat = [row.lat_x, row.lat_y],\n",
    "            mode = 'lines',\n",
    "            line = go.scattergeo.Line(\n",
    "                width = 1,\n",
    "                color = 'red'\n",
    "                \n",
    "            ),\n",
    "            opacity = min(float(row.n) / 200, 1),\n",
    "            text = \"{} - {}<br>{} trips<br>{:.1f} miles\".format(row.city_x, row.city_y, row.n, row.miles),\n",
    "            hoverinfo='text'\n",
    "        )\n",
    "    )\n",
    "\n",
    "layout = go.Layout(\n",
    "    title = go.layout.Title(\n",
    "        text = 'Weekend trips over 50 miles based on check-ins'\n",
    "    ),\n",
    "    showlegend = False,\n",
    "    geo = go.layout.Geo(\n",
    "        scope = 'north america',\n",
    "        projection = go.layout.geo.Projection(type = 'azimuthal equal area'),\n",
    "        showland = True,\n",
    "        landcolor = 'rgb(243, 243, 243)',\n",
    "        countrycolor = 'rgb(204, 204, 204)',\n",
    "    ),\n",
    ")\n",
    "\n",
    "fig = go.Figure(data = paths, layout = layout)\n",
    "py.iplot(fig, filename = 'd3-flight-paths')"
   ]
  },
  {
   "cell_type": "code",
   "execution_count": 35,
   "metadata": {
    "ExecuteTime": {
     "end_time": "2019-05-11T22:17:10.539564Z",
     "start_time": "2019-05-11T22:17:10.529516Z"
    }
   },
   "outputs": [
    {
     "data": {
      "text/html": [
       "<div>\n",
       "<style scoped>\n",
       "    .dataframe tbody tr th:only-of-type {\n",
       "        vertical-align: middle;\n",
       "    }\n",
       "\n",
       "    .dataframe tbody tr th {\n",
       "        vertical-align: top;\n",
       "    }\n",
       "\n",
       "    .dataframe thead th {\n",
       "        text-align: right;\n",
       "    }\n",
       "</style>\n",
       "<table border=\"1\" class=\"dataframe\">\n",
       "  <thead>\n",
       "    <tr style=\"text-align: right;\">\n",
       "      <th></th>\n",
       "      <th>user_id</th>\n",
       "      <th>poi_id</th>\n",
       "      <th>time_utc</th>\n",
       "      <th>time_offset</th>\n",
       "      <th>local_time</th>\n",
       "      <th>hour</th>\n",
       "      <th>hour_min</th>\n",
       "      <th>dow</th>\n",
       "      <th>weekend</th>\n",
       "    </tr>\n",
       "  </thead>\n",
       "  <tbody>\n",
       "    <tr>\n",
       "      <th>0</th>\n",
       "      <td>208842</td>\n",
       "      <td>4b4606f2f964a520751426e3</td>\n",
       "      <td>Tue Apr 03 18:00:08 +0000 2012</td>\n",
       "      <td>-300</td>\n",
       "      <td>2012-04-03 13:00:08+00:00</td>\n",
       "      <td>13</td>\n",
       "      <td>13.0</td>\n",
       "      <td>Tue</td>\n",
       "      <td>0</td>\n",
       "    </tr>\n",
       "    <tr>\n",
       "      <th>1</th>\n",
       "      <td>113817</td>\n",
       "      <td>4b4bade2f964a520cfa326e3</td>\n",
       "      <td>Tue Apr 03 18:00:09 +0000 2012</td>\n",
       "      <td>-240</td>\n",
       "      <td>2012-04-03 14:00:09+00:00</td>\n",
       "      <td>14</td>\n",
       "      <td>14.0</td>\n",
       "      <td>Tue</td>\n",
       "      <td>0</td>\n",
       "    </tr>\n",
       "    <tr>\n",
       "      <th>2</th>\n",
       "      <td>14732</td>\n",
       "      <td>4c143cada5eb76b0dc7dc1b7</td>\n",
       "      <td>Tue Apr 03 18:00:09 +0000 2012</td>\n",
       "      <td>-240</td>\n",
       "      <td>2012-04-03 14:00:09+00:00</td>\n",
       "      <td>14</td>\n",
       "      <td>14.0</td>\n",
       "      <td>Tue</td>\n",
       "      <td>0</td>\n",
       "    </tr>\n",
       "    <tr>\n",
       "      <th>3</th>\n",
       "      <td>211326</td>\n",
       "      <td>4b4f9d38f964a5209e0d27e3</td>\n",
       "      <td>Tue Apr 03 18:00:11 +0000 2012</td>\n",
       "      <td>-300</td>\n",
       "      <td>2012-04-03 13:00:11+00:00</td>\n",
       "      <td>13</td>\n",
       "      <td>13.0</td>\n",
       "      <td>Tue</td>\n",
       "      <td>0</td>\n",
       "    </tr>\n",
       "    <tr>\n",
       "      <th>4</th>\n",
       "      <td>276776</td>\n",
       "      <td>4e8f0252775b89b0510515b6</td>\n",
       "      <td>Tue Apr 03 18:00:13 +0000 2012</td>\n",
       "      <td>-300</td>\n",
       "      <td>2012-04-03 13:00:13+00:00</td>\n",
       "      <td>13</td>\n",
       "      <td>13.0</td>\n",
       "      <td>Tue</td>\n",
       "      <td>0</td>\n",
       "    </tr>\n",
       "  </tbody>\n",
       "</table>\n",
       "</div>"
      ],
      "text/plain": [
       "   user_id                    poi_id                        time_utc  \\\n",
       "0   208842  4b4606f2f964a520751426e3  Tue Apr 03 18:00:08 +0000 2012   \n",
       "1   113817  4b4bade2f964a520cfa326e3  Tue Apr 03 18:00:09 +0000 2012   \n",
       "2    14732  4c143cada5eb76b0dc7dc1b7  Tue Apr 03 18:00:09 +0000 2012   \n",
       "3   211326  4b4f9d38f964a5209e0d27e3  Tue Apr 03 18:00:11 +0000 2012   \n",
       "4   276776  4e8f0252775b89b0510515b6  Tue Apr 03 18:00:13 +0000 2012   \n",
       "\n",
       "   time_offset                local_time hour  hour_min  dow  weekend  \n",
       "0         -300 2012-04-03 13:00:08+00:00   13      13.0  Tue        0  \n",
       "1         -240 2012-04-03 14:00:09+00:00   14      14.0  Tue        0  \n",
       "2         -240 2012-04-03 14:00:09+00:00   14      14.0  Tue        0  \n",
       "3         -300 2012-04-03 13:00:11+00:00   13      13.0  Tue        0  \n",
       "4         -300 2012-04-03 13:00:13+00:00   13      13.0  Tue        0  "
      ]
     },
     "execution_count": 35,
     "metadata": {},
     "output_type": "execute_result"
    }
   ],
   "source": [
    "df_check.head()"
   ]
  },
  {
   "cell_type": "code",
   "execution_count": 38,
   "metadata": {
    "ExecuteTime": {
     "end_time": "2019-05-11T22:19:02.412614Z",
     "start_time": "2019-05-11T22:18:59.247815Z"
    }
   },
   "outputs": [
    {
     "name": "stderr",
     "output_type": "stream",
     "text": [
      "/home/julia/anaconda3/envs/MSDS603/lib/python3.7/site-packages/IPython/core/display.py:689: UserWarning:\n",
      "\n",
      "Consider using IPython.display.IFrame instead\n",
      "\n"
     ]
    },
    {
     "data": {
      "text/html": [
       "<iframe id=\"igraph\" scrolling=\"no\" style=\"border:none;\" seamless=\"seamless\" src=\"https://plot.ly/~juliausf/32.embed\" height=\"525px\" width=\"100%\"></iframe>"
      ],
      "text/plain": [
       "<chart_studio.tools.PlotlyDisplay object>"
      ]
     },
     "execution_count": 38,
     "metadata": {},
     "output_type": "execute_result"
    }
   ],
   "source": [
    "df_sub = df_check[[\"hour_min\", \"weekend\", \"dow\"]].groupby([\"hour_min\", \"weekend\"]).count().reset_index()\n",
    "df_sub.columns = [\"hour\", \"weekend\", \"n\"]\n",
    "\n",
    "trace0 = go.Scatter(\n",
    "    x = df_sub[df_sub.weekend==0].hour.tolist(),\n",
    "    y = df_sub[df_sub.weekend==0].n.tolist(),\n",
    "    mode = 'markers',\n",
    "    name = 'weekday'\n",
    ")\n",
    "\n",
    "trace1 = go.Scatter(\n",
    "    x = df_sub[df_sub.weekend==1].hour.tolist(),\n",
    "    y = df_sub[df_sub.weekend==1].n.tolist(),\n",
    "    mode = 'markers',\n",
    "    name = 'weekend'\n",
    ")\n",
    "\n",
    "layout = go.Layout(\n",
    "    title = go.layout.Title(\n",
    "        text = 'Check-ins over hours of the day'\n",
    "    ),\n",
    ")\n",
    "\n",
    "fig = go.Figure(data = [trace0, trace1], layout = layout)\n",
    "\n",
    "py.iplot(fig, filename='scatter-mode')"
   ]
  },
  {
   "cell_type": "code",
   "execution_count": 40,
   "metadata": {
    "ExecuteTime": {
     "end_time": "2019-05-11T18:43:57.610211Z",
     "start_time": "2019-05-11T18:43:57.352334Z"
    }
   },
   "outputs": [
    {
     "data": {
      "text/html": [
       "<div>\n",
       "<style scoped>\n",
       "    .dataframe tbody tr th:only-of-type {\n",
       "        vertical-align: middle;\n",
       "    }\n",
       "\n",
       "    .dataframe tbody tr th {\n",
       "        vertical-align: top;\n",
       "    }\n",
       "\n",
       "    .dataframe thead th {\n",
       "        text-align: right;\n",
       "    }\n",
       "</style>\n",
       "<table border=\"1\" class=\"dataframe\">\n",
       "  <thead>\n",
       "    <tr style=\"text-align: right;\">\n",
       "      <th></th>\n",
       "      <th>user_id</th>\n",
       "      <th>admin1</th>\n",
       "      <th>total</th>\n",
       "    </tr>\n",
       "  </thead>\n",
       "  <tbody>\n",
       "    <tr>\n",
       "      <th>0</th>\n",
       "      <td>15</td>\n",
       "      <td>California</td>\n",
       "      <td>176</td>\n",
       "    </tr>\n",
       "    <tr>\n",
       "      <th>1</th>\n",
       "      <td>15</td>\n",
       "      <td>Hawaii</td>\n",
       "      <td>9</td>\n",
       "    </tr>\n",
       "    <tr>\n",
       "      <th>2</th>\n",
       "      <td>19</td>\n",
       "      <td>California</td>\n",
       "      <td>36</td>\n",
       "    </tr>\n",
       "    <tr>\n",
       "      <th>3</th>\n",
       "      <td>19</td>\n",
       "      <td>Connecticut</td>\n",
       "      <td>7</td>\n",
       "    </tr>\n",
       "    <tr>\n",
       "      <th>4</th>\n",
       "      <td>19</td>\n",
       "      <td>Florida</td>\n",
       "      <td>4</td>\n",
       "    </tr>\n",
       "  </tbody>\n",
       "</table>\n",
       "</div>"
      ],
      "text/plain": [
       "   user_id       admin1  total\n",
       "0       15   California    176\n",
       "1       15       Hawaii      9\n",
       "2       19   California     36\n",
       "3       19  Connecticut      7\n",
       "4       19      Florida      4"
      ]
     },
     "execution_count": 40,
     "metadata": {},
     "output_type": "execute_result"
    }
   ],
   "source": [
    "df_checkin_state = df[[\"user_id\", \"admin1\", \"total\"]].groupby([\"user_id\", \"admin1\"]).count().reset_index()\n",
    "df_checkin_state.head()"
   ]
  },
  {
   "cell_type": "code",
   "execution_count": 55,
   "metadata": {
    "ExecuteTime": {
     "end_time": "2019-05-11T18:59:14.456733Z",
     "start_time": "2019-05-11T18:59:11.247684Z"
    }
   },
   "outputs": [
    {
     "data": {
      "text/html": [
       "<iframe id=\"igraph\" scrolling=\"no\" style=\"border:none;\" seamless=\"seamless\" src=\"https://plot.ly/~juliausf/20.embed\" height=\"525px\" width=\"100%\"></iframe>"
      ],
      "text/plain": [
       "<chart_studio.tools.PlotlyDisplay object>"
      ]
     },
     "execution_count": 55,
     "metadata": {},
     "output_type": "execute_result"
    }
   ],
   "source": [
    "traces = []\n",
    "for state in us_state_abbrev.keys():\n",
    "    vals = df_checkin_state[df_checkin_state.admin1==state].total.values\n",
    "    if vals.shape[0] == 0:\n",
    "        continue\n",
    "    trace = go.Box(y=vals, boxpoints=False, name=state)\n",
    "    traces.append(trace)\n",
    "\n",
    "layout = go.Layout(\n",
    "    title = \"Number of check-ins per user\", \n",
    "yaxis=dict(\n",
    "    range=[0, 50]\n",
    ")\n",
    ")\n",
    "fig = go.Figure(data=traces, layout=layout)\n",
    "py.iplot(fig, filename='axes-range-manual')"
   ]
  },
  {
   "cell_type": "code",
   "execution_count": 60,
   "metadata": {
    "ExecuteTime": {
     "end_time": "2019-05-11T19:11:44.261566Z",
     "start_time": "2019-05-11T19:11:43.999272Z"
    }
   },
   "outputs": [
    {
     "data": {
      "text/html": [
       "<div>\n",
       "<style scoped>\n",
       "    .dataframe tbody tr th:only-of-type {\n",
       "        vertical-align: middle;\n",
       "    }\n",
       "\n",
       "    .dataframe tbody tr th {\n",
       "        vertical-align: top;\n",
       "    }\n",
       "\n",
       "    .dataframe thead th {\n",
       "        text-align: right;\n",
       "    }\n",
       "</style>\n",
       "<table border=\"1\" class=\"dataframe\">\n",
       "  <thead>\n",
       "    <tr style=\"text-align: right;\">\n",
       "      <th></th>\n",
       "      <th>user_id</th>\n",
       "      <th>poi_id</th>\n",
       "      <th>time_utc</th>\n",
       "      <th>time_offset</th>\n",
       "      <th>local_time</th>\n",
       "      <th>hour</th>\n",
       "      <th>lat</th>\n",
       "      <th>lon</th>\n",
       "      <th>category</th>\n",
       "      <th>country</th>\n",
       "      <th>city</th>\n",
       "      <th>admin1</th>\n",
       "      <th>total</th>\n",
       "    </tr>\n",
       "  </thead>\n",
       "  <tbody>\n",
       "    <tr>\n",
       "      <th>0</th>\n",
       "      <td>208842</td>\n",
       "      <td>4b4606f2f964a520751426e3</td>\n",
       "      <td>Tue Apr 03 18:00:08 +0000 2012</td>\n",
       "      <td>-300</td>\n",
       "      <td>2012-04-03 13:00:08+00:00</td>\n",
       "      <td>13</td>\n",
       "      <td>30.270786</td>\n",
       "      <td>-97.753151</td>\n",
       "      <td>Office</td>\n",
       "      <td>US</td>\n",
       "      <td>Austin</td>\n",
       "      <td>Texas</td>\n",
       "      <td>144620</td>\n",
       "    </tr>\n",
       "    <tr>\n",
       "      <th>1</th>\n",
       "      <td>208842</td>\n",
       "      <td>4b4606f2f964a520751426e3</td>\n",
       "      <td>Wed Apr 04 19:20:35 +0000 2012</td>\n",
       "      <td>-300</td>\n",
       "      <td>2012-04-04 14:20:35+00:00</td>\n",
       "      <td>14</td>\n",
       "      <td>30.270786</td>\n",
       "      <td>-97.753151</td>\n",
       "      <td>Office</td>\n",
       "      <td>US</td>\n",
       "      <td>Austin</td>\n",
       "      <td>Texas</td>\n",
       "      <td>144620</td>\n",
       "    </tr>\n",
       "    <tr>\n",
       "      <th>2</th>\n",
       "      <td>208842</td>\n",
       "      <td>4b4606f2f964a520751426e3</td>\n",
       "      <td>Mon Apr 09 13:57:42 +0000 2012</td>\n",
       "      <td>-300</td>\n",
       "      <td>2012-04-09 08:57:42+00:00</td>\n",
       "      <td>08</td>\n",
       "      <td>30.270786</td>\n",
       "      <td>-97.753151</td>\n",
       "      <td>Office</td>\n",
       "      <td>US</td>\n",
       "      <td>Austin</td>\n",
       "      <td>Texas</td>\n",
       "      <td>144620</td>\n",
       "    </tr>\n",
       "    <tr>\n",
       "      <th>3</th>\n",
       "      <td>208842</td>\n",
       "      <td>4b4606f2f964a520751426e3</td>\n",
       "      <td>Thu Apr 12 13:27:53 +0000 2012</td>\n",
       "      <td>-300</td>\n",
       "      <td>2012-04-12 08:27:53+00:00</td>\n",
       "      <td>08</td>\n",
       "      <td>30.270786</td>\n",
       "      <td>-97.753151</td>\n",
       "      <td>Office</td>\n",
       "      <td>US</td>\n",
       "      <td>Austin</td>\n",
       "      <td>Texas</td>\n",
       "      <td>144620</td>\n",
       "    </tr>\n",
       "    <tr>\n",
       "      <th>4</th>\n",
       "      <td>208842</td>\n",
       "      <td>4b4606f2f964a520751426e3</td>\n",
       "      <td>Fri Apr 13 15:41:49 +0000 2012</td>\n",
       "      <td>-300</td>\n",
       "      <td>2012-04-13 10:41:49+00:00</td>\n",
       "      <td>10</td>\n",
       "      <td>30.270786</td>\n",
       "      <td>-97.753151</td>\n",
       "      <td>Office</td>\n",
       "      <td>US</td>\n",
       "      <td>Austin</td>\n",
       "      <td>Texas</td>\n",
       "      <td>144620</td>\n",
       "    </tr>\n",
       "  </tbody>\n",
       "</table>\n",
       "</div>"
      ],
      "text/plain": [
       "   user_id                    poi_id                        time_utc  \\\n",
       "0   208842  4b4606f2f964a520751426e3  Tue Apr 03 18:00:08 +0000 2012   \n",
       "1   208842  4b4606f2f964a520751426e3  Wed Apr 04 19:20:35 +0000 2012   \n",
       "2   208842  4b4606f2f964a520751426e3  Mon Apr 09 13:57:42 +0000 2012   \n",
       "3   208842  4b4606f2f964a520751426e3  Thu Apr 12 13:27:53 +0000 2012   \n",
       "4   208842  4b4606f2f964a520751426e3  Fri Apr 13 15:41:49 +0000 2012   \n",
       "\n",
       "   time_offset                local_time hour        lat        lon category  \\\n",
       "0         -300 2012-04-03 13:00:08+00:00   13  30.270786 -97.753151   Office   \n",
       "1         -300 2012-04-04 14:20:35+00:00   14  30.270786 -97.753151   Office   \n",
       "2         -300 2012-04-09 08:57:42+00:00   08  30.270786 -97.753151   Office   \n",
       "3         -300 2012-04-12 08:27:53+00:00   08  30.270786 -97.753151   Office   \n",
       "4         -300 2012-04-13 10:41:49+00:00   10  30.270786 -97.753151   Office   \n",
       "\n",
       "  country    city admin1   total  \n",
       "0      US  Austin  Texas  144620  \n",
       "1      US  Austin  Texas  144620  \n",
       "2      US  Austin  Texas  144620  \n",
       "3      US  Austin  Texas  144620  \n",
       "4      US  Austin  Texas  144620  "
      ]
     },
     "execution_count": 60,
     "metadata": {},
     "output_type": "execute_result"
    }
   ],
   "source": [
    "df.head()"
   ]
  },
  {
   "cell_type": "code",
   "execution_count": 66,
   "metadata": {
    "ExecuteTime": {
     "end_time": "2019-05-11T19:12:58.179560Z",
     "start_time": "2019-05-11T19:12:57.996678Z"
    }
   },
   "outputs": [
    {
     "data": {
      "text/html": [
       "<div>\n",
       "<style scoped>\n",
       "    .dataframe tbody tr th:only-of-type {\n",
       "        vertical-align: middle;\n",
       "    }\n",
       "\n",
       "    .dataframe tbody tr th {\n",
       "        vertical-align: top;\n",
       "    }\n",
       "\n",
       "    .dataframe thead th {\n",
       "        text-align: right;\n",
       "    }\n",
       "</style>\n",
       "<table border=\"1\" class=\"dataframe\">\n",
       "  <thead>\n",
       "    <tr style=\"text-align: right;\">\n",
       "      <th></th>\n",
       "      <th>category</th>\n",
       "      <th>total</th>\n",
       "    </tr>\n",
       "  </thead>\n",
       "  <tbody>\n",
       "    <tr>\n",
       "      <th>212</th>\n",
       "      <td>Home (private)</td>\n",
       "      <td>195804</td>\n",
       "    </tr>\n",
       "    <tr>\n",
       "      <th>290</th>\n",
       "      <td>Office</td>\n",
       "      <td>119104</td>\n",
       "    </tr>\n",
       "    <tr>\n",
       "      <th>84</th>\n",
       "      <td>Coffee Shop</td>\n",
       "      <td>108468</td>\n",
       "    </tr>\n",
       "    <tr>\n",
       "      <th>4</th>\n",
       "      <td>Airport</td>\n",
       "      <td>91353</td>\n",
       "    </tr>\n",
       "    <tr>\n",
       "      <th>10</th>\n",
       "      <td>American Restaurant</td>\n",
       "      <td>85508</td>\n",
       "    </tr>\n",
       "  </tbody>\n",
       "</table>\n",
       "</div>"
      ],
      "text/plain": [
       "                category   total\n",
       "212       Home (private)  195804\n",
       "290               Office  119104\n",
       "84           Coffee Shop  108468\n",
       "4                Airport   91353\n",
       "10   American Restaurant   85508"
      ]
     },
     "execution_count": 66,
     "metadata": {},
     "output_type": "execute_result"
    }
   ],
   "source": [
    "count_per_category = df[[\"category\", 'total']].groupby('category').count().reset_index().sort_values(\"total\", ascending=False)\n",
    "count_per_category.head()"
   ]
  },
  {
   "cell_type": "code",
   "execution_count": 74,
   "metadata": {
    "ExecuteTime": {
     "end_time": "2019-05-11T19:18:59.253913Z",
     "start_time": "2019-05-11T19:18:57.658105Z"
    }
   },
   "outputs": [
    {
     "data": {
      "text/html": [
       "<iframe id=\"igraph\" scrolling=\"no\" style=\"border:none;\" seamless=\"seamless\" src=\"https://plot.ly/~juliausf/22.embed\" height=\"525px\" width=\"100%\"></iframe>"
      ],
      "text/plain": [
       "<chart_studio.tools.PlotlyDisplay object>"
      ]
     },
     "execution_count": 74,
     "metadata": {},
     "output_type": "execute_result"
    }
   ],
   "source": [
    "n = 20\n",
    "color = sns.color_palette(\"colorblind\", n)\n",
    "color = [\"rgb{}\".format(x) for x in color]\n",
    "trace0 = go.Bar(\n",
    "    x=count_per_category.head(n).category,\n",
    "    y=count_per_category.head(n).total,\n",
    "    marker=dict(color=color),\n",
    ")\n",
    "\n",
    "data = [trace0]\n",
    "layout = go.Layout(\n",
    "    title='Number of check-ins per category',\n",
    ")\n",
    "\n",
    "fig = go.Figure(data=data, layout=layout)\n",
    "py.iplot(fig, filename='color-bar')"
   ]
  },
  {
   "cell_type": "code",
   "execution_count": 15,
   "metadata": {
    "ExecuteTime": {
     "end_time": "2019-05-11T18:34:27.500524Z",
     "start_time": "2019-05-11T18:34:26.508647Z"
    }
   },
   "outputs": [
    {
     "data": {
      "text/html": [
       "<div>\n",
       "<style scoped>\n",
       "    .dataframe tbody tr th:only-of-type {\n",
       "        vertical-align: middle;\n",
       "    }\n",
       "\n",
       "    .dataframe tbody tr th {\n",
       "        vertical-align: top;\n",
       "    }\n",
       "\n",
       "    .dataframe thead th {\n",
       "        text-align: right;\n",
       "    }\n",
       "</style>\n",
       "<table border=\"1\" class=\"dataframe\">\n",
       "  <thead>\n",
       "    <tr style=\"text-align: right;\">\n",
       "      <th></th>\n",
       "      <th>poi_id</th>\n",
       "      <th>lat</th>\n",
       "      <th>lon</th>\n",
       "      <th>category</th>\n",
       "      <th>country</th>\n",
       "      <th>city</th>\n",
       "      <th>admin1</th>\n",
       "      <th>total</th>\n",
       "    </tr>\n",
       "  </thead>\n",
       "  <tbody>\n",
       "    <tr>\n",
       "      <th>0</th>\n",
       "      <td>3fd66200f964a52000e61ee3</td>\n",
       "      <td>40.729210</td>\n",
       "      <td>-73.998756</td>\n",
       "      <td>Post Office</td>\n",
       "      <td>US</td>\n",
       "      <td>New York City</td>\n",
       "      <td>New York</td>\n",
       "      <td>147989</td>\n",
       "    </tr>\n",
       "    <tr>\n",
       "      <th>1</th>\n",
       "      <td>3fd66200f964a52000e71ee3</td>\n",
       "      <td>40.733597</td>\n",
       "      <td>-74.003136</td>\n",
       "      <td>Jazz Club</td>\n",
       "      <td>US</td>\n",
       "      <td>New York City</td>\n",
       "      <td>New York</td>\n",
       "      <td>147989</td>\n",
       "    </tr>\n",
       "    <tr>\n",
       "      <th>2</th>\n",
       "      <td>3fd66200f964a52000e81ee3</td>\n",
       "      <td>40.758102</td>\n",
       "      <td>-73.975731</td>\n",
       "      <td>Gym</td>\n",
       "      <td>US</td>\n",
       "      <td>Manhattan</td>\n",
       "      <td>New York</td>\n",
       "      <td>147989</td>\n",
       "    </tr>\n",
       "    <tr>\n",
       "      <th>3</th>\n",
       "      <td>3fd66200f964a52000ea1ee3</td>\n",
       "      <td>40.732456</td>\n",
       "      <td>-74.003754</td>\n",
       "      <td>Indian Restaurant</td>\n",
       "      <td>US</td>\n",
       "      <td>New York City</td>\n",
       "      <td>New York</td>\n",
       "      <td>147989</td>\n",
       "    </tr>\n",
       "    <tr>\n",
       "      <th>4</th>\n",
       "      <td>3fd66200f964a52000ec1ee3</td>\n",
       "      <td>42.345905</td>\n",
       "      <td>-71.086998</td>\n",
       "      <td>Indian Restaurant</td>\n",
       "      <td>US</td>\n",
       "      <td>Boston</td>\n",
       "      <td>Massachusetts</td>\n",
       "      <td>49151</td>\n",
       "    </tr>\n",
       "  </tbody>\n",
       "</table>\n",
       "</div>"
      ],
      "text/plain": [
       "                     poi_id        lat        lon           category country  \\\n",
       "0  3fd66200f964a52000e61ee3  40.729210 -73.998756        Post Office      US   \n",
       "1  3fd66200f964a52000e71ee3  40.733597 -74.003136          Jazz Club      US   \n",
       "2  3fd66200f964a52000e81ee3  40.758102 -73.975731                Gym      US   \n",
       "3  3fd66200f964a52000ea1ee3  40.732456 -74.003754  Indian Restaurant      US   \n",
       "4  3fd66200f964a52000ec1ee3  42.345905 -71.086998  Indian Restaurant      US   \n",
       "\n",
       "            city         admin1   total  \n",
       "0  New York City       New York  147989  \n",
       "1  New York City       New York  147989  \n",
       "2      Manhattan       New York  147989  \n",
       "3  New York City       New York  147989  \n",
       "4         Boston  Massachusetts   49151  "
      ]
     },
     "execution_count": 15,
     "metadata": {},
     "output_type": "execute_result"
    }
   ],
   "source": [
    "total_df = df_poi[[\"admin1\", \"poi_id\"]].groupby(\"admin1\").count().reset_index()\n",
    "total_df.columns = [\"admin1\", \"total\"]\n",
    "df_poi = df_poi.merge(total_df, how='left', on='admin1')\n",
    "df_poi.head()"
   ]
  },
  {
   "cell_type": "code",
   "execution_count": 30,
   "metadata": {
    "ExecuteTime": {
     "end_time": "2019-05-11T18:42:39.791917Z",
     "start_time": "2019-05-11T18:42:39.430066Z"
    }
   },
   "outputs": [
    {
     "data": {
      "text/html": [
       "<div>\n",
       "<style scoped>\n",
       "    .dataframe tbody tr th:only-of-type {\n",
       "        vertical-align: middle;\n",
       "    }\n",
       "\n",
       "    .dataframe tbody tr th {\n",
       "        vertical-align: top;\n",
       "    }\n",
       "\n",
       "    .dataframe thead th {\n",
       "        text-align: right;\n",
       "    }\n",
       "</style>\n",
       "<table border=\"1\" class=\"dataframe\">\n",
       "  <thead>\n",
       "    <tr style=\"text-align: right;\">\n",
       "      <th></th>\n",
       "      <th>category</th>\n",
       "      <th>admin1</th>\n",
       "      <th>n</th>\n",
       "      <th>total</th>\n",
       "      <th>prc</th>\n",
       "    </tr>\n",
       "  </thead>\n",
       "  <tbody>\n",
       "    <tr>\n",
       "      <th>0</th>\n",
       "      <td>Home (private)</td>\n",
       "      <td>California</td>\n",
       "      <td>11584</td>\n",
       "      <td>226213</td>\n",
       "      <td>0.051208</td>\n",
       "    </tr>\n",
       "    <tr>\n",
       "      <th>1</th>\n",
       "      <td>Home (private)</td>\n",
       "      <td>New York</td>\n",
       "      <td>10130</td>\n",
       "      <td>147989</td>\n",
       "      <td>0.068451</td>\n",
       "    </tr>\n",
       "    <tr>\n",
       "      <th>2</th>\n",
       "      <td>Home (private)</td>\n",
       "      <td>Texas</td>\n",
       "      <td>10017</td>\n",
       "      <td>144620</td>\n",
       "      <td>0.069264</td>\n",
       "    </tr>\n",
       "    <tr>\n",
       "      <th>3</th>\n",
       "      <td>Home (private)</td>\n",
       "      <td>Florida</td>\n",
       "      <td>8595</td>\n",
       "      <td>140613</td>\n",
       "      <td>0.061125</td>\n",
       "    </tr>\n",
       "    <tr>\n",
       "      <th>5</th>\n",
       "      <td>Home (private)</td>\n",
       "      <td>Illinois</td>\n",
       "      <td>6807</td>\n",
       "      <td>86774</td>\n",
       "      <td>0.078445</td>\n",
       "    </tr>\n",
       "  </tbody>\n",
       "</table>\n",
       "</div>"
      ],
      "text/plain": [
       "         category      admin1      n   total       prc\n",
       "0  Home (private)  California  11584  226213  0.051208\n",
       "1  Home (private)    New York  10130  147989  0.068451\n",
       "2  Home (private)       Texas  10017  144620  0.069264\n",
       "3  Home (private)     Florida   8595  140613  0.061125\n",
       "5  Home (private)    Illinois   6807   86774  0.078445"
      ]
     },
     "execution_count": 30,
     "metadata": {},
     "output_type": "execute_result"
    }
   ],
   "source": [
    "count_cat_df = df_poi[[\"category\", \"admin1\", \"poi_id\"]].groupby([\"category\", \"admin1\"]).count().reset_index()\n",
    "count_cat_df.columns = [\"category\", \"admin1\", \"n\"]\n",
    "count_cat_df = count_cat_df.merge(total_df, how='left', on='admin1')\n",
    "count_cat_df.head()\n",
    "top1_df = count_cat_df.sort_values(\"n\", ascending=False).groupby([\"admin1\"]).head(1)\n",
    "top1_df[\"prc\"] = top1_df.n/top1_df.total\n",
    "top1_df = top1_df[top1_df.total>1000]\n",
    "top1_df.reset_index(inplace=True, drop=True)\n",
    "top1_df.sort_values(\"total\", ascending=False).head()"
   ]
  },
  {
   "cell_type": "code",
   "execution_count": 12,
   "metadata": {
    "ExecuteTime": {
     "end_time": "2019-05-11T21:16:54.903260Z",
     "start_time": "2019-05-11T21:16:54.898415Z"
    }
   },
   "outputs": [],
   "source": [
    "us_state_abbrev = {\n",
    "    'Alabama': 'AL',\n",
    "    'Alaska': 'AK',\n",
    "    'Arizona': 'AZ',\n",
    "    'Arkansas': 'AR',\n",
    "    'California': 'CA',\n",
    "    'Colorado': 'CO',\n",
    "    'Connecticut': 'CT',\n",
    "    'Delaware': 'DE',\n",
    "    'Florida': 'FL',\n",
    "    'Georgia': 'GA',\n",
    "    'Hawaii': 'HI',\n",
    "    'Idaho': 'ID',\n",
    "    'Illinois': 'IL',\n",
    "    'Indiana': 'IN',\n",
    "    'Iowa': 'IA',\n",
    "    'Kansas': 'KS',\n",
    "    'Kentucky': 'KY',\n",
    "    'Louisiana': 'LA',\n",
    "    'Maine': 'ME',\n",
    "    'Maryland': 'MD',\n",
    "    'Massachusetts': 'MA',\n",
    "    'Michigan': 'MI',\n",
    "    'Minnesota': 'MN',\n",
    "    'Mississippi': 'MS',\n",
    "    'Missouri': 'MO',\n",
    "    'Montana': 'MT',\n",
    "    'Nebraska': 'NE',\n",
    "    'Nevada': 'NV',\n",
    "    'New Hampshire': 'NH',\n",
    "    'New Jersey': 'NJ',\n",
    "    'New Mexico': 'NM',\n",
    "    'New York': 'NY',\n",
    "    'North Carolina': 'NC',\n",
    "    'North Dakota': 'ND',\n",
    "    'Ohio': 'OH',\n",
    "    'Oklahoma': 'OK',\n",
    "    'Oregon': 'OR',\n",
    "    'Pennsylvania': 'PA',\n",
    "    'Rhode Island': 'RI',\n",
    "    'South Carolina': 'SC',\n",
    "    'South Dakota': 'SD',\n",
    "    'Tennessee': 'TN',\n",
    "    'Texas': 'TX',\n",
    "    'Utah': 'UT',\n",
    "    'Vermont': 'VT',\n",
    "    'Virginia': 'VA',\n",
    "    'Washington': 'WA',\n",
    "    \"Washington, D.C.\": 'DC',\n",
    "    'West Virginia': 'WV',\n",
    "    'Wisconsin': 'WI',\n",
    "    'Wyoming': 'WY',\n",
    "}"
   ]
  },
  {
   "cell_type": "code",
   "execution_count": 75,
   "metadata": {
    "ExecuteTime": {
     "end_time": "2019-05-11T19:26:20.341350Z",
     "start_time": "2019-05-11T19:26:20.328830Z"
    }
   },
   "outputs": [
    {
     "data": {
      "text/html": [
       "<div>\n",
       "<style scoped>\n",
       "    .dataframe tbody tr th:only-of-type {\n",
       "        vertical-align: middle;\n",
       "    }\n",
       "\n",
       "    .dataframe tbody tr th {\n",
       "        vertical-align: top;\n",
       "    }\n",
       "\n",
       "    .dataframe thead th {\n",
       "        text-align: right;\n",
       "    }\n",
       "</style>\n",
       "<table border=\"1\" class=\"dataframe\">\n",
       "  <thead>\n",
       "    <tr style=\"text-align: right;\">\n",
       "      <th></th>\n",
       "      <th>category</th>\n",
       "      <th>admin1</th>\n",
       "      <th>n</th>\n",
       "      <th>total</th>\n",
       "      <th>prc</th>\n",
       "      <th>fips</th>\n",
       "      <th>state</th>\n",
       "      <th>text</th>\n",
       "    </tr>\n",
       "  </thead>\n",
       "  <tbody>\n",
       "    <tr>\n",
       "      <th>0</th>\n",
       "      <td>Home (private)</td>\n",
       "      <td>California</td>\n",
       "      <td>11584</td>\n",
       "      <td>226213</td>\n",
       "      <td>0.051208</td>\n",
       "      <td>06</td>\n",
       "      <td>CA</td>\n",
       "      <td>test</td>\n",
       "    </tr>\n",
       "    <tr>\n",
       "      <th>1</th>\n",
       "      <td>Home (private)</td>\n",
       "      <td>New York</td>\n",
       "      <td>10130</td>\n",
       "      <td>147989</td>\n",
       "      <td>0.068451</td>\n",
       "      <td>36</td>\n",
       "      <td>NY</td>\n",
       "      <td>test</td>\n",
       "    </tr>\n",
       "    <tr>\n",
       "      <th>2</th>\n",
       "      <td>Home (private)</td>\n",
       "      <td>Texas</td>\n",
       "      <td>10017</td>\n",
       "      <td>144620</td>\n",
       "      <td>0.069264</td>\n",
       "      <td>48</td>\n",
       "      <td>TX</td>\n",
       "      <td>test</td>\n",
       "    </tr>\n",
       "    <tr>\n",
       "      <th>3</th>\n",
       "      <td>Home (private)</td>\n",
       "      <td>Florida</td>\n",
       "      <td>8595</td>\n",
       "      <td>140613</td>\n",
       "      <td>0.061125</td>\n",
       "      <td>12</td>\n",
       "      <td>FL</td>\n",
       "      <td>test</td>\n",
       "    </tr>\n",
       "    <tr>\n",
       "      <th>4</th>\n",
       "      <td>Home (private)</td>\n",
       "      <td>Pennsylvania</td>\n",
       "      <td>7177</td>\n",
       "      <td>86239</td>\n",
       "      <td>0.083222</td>\n",
       "      <td>17</td>\n",
       "      <td>PA</td>\n",
       "      <td>test</td>\n",
       "    </tr>\n",
       "  </tbody>\n",
       "</table>\n",
       "</div>"
      ],
      "text/plain": [
       "         category        admin1      n   total       prc fips state  text\n",
       "0  Home (private)    California  11584  226213  0.051208   06    CA  test\n",
       "1  Home (private)      New York  10130  147989  0.068451   36    NY  test\n",
       "2  Home (private)         Texas  10017  144620  0.069264   48    TX  test\n",
       "3  Home (private)       Florida   8595  140613  0.061125   12    FL  test\n",
       "4  Home (private)  Pennsylvania   7177   86239  0.083222   17    PA  test"
      ]
     },
     "execution_count": 75,
     "metadata": {},
     "output_type": "execute_result"
    }
   ],
   "source": [
    "top1_df[\"state\"] = top1_df.admin1.apply(lambda x: us_state_abbrev[x])\n",
    "top1_df.head()"
   ]
  },
  {
   "cell_type": "code",
   "execution_count": 39,
   "metadata": {
    "ExecuteTime": {
     "end_time": "2019-05-11T18:43:14.540229Z",
     "start_time": "2019-05-11T18:43:03.858237Z"
    }
   },
   "outputs": [
    {
     "name": "stderr",
     "output_type": "stream",
     "text": [
      "/home/julia/anaconda3/envs/MSDS603/lib/python3.7/site-packages/IPython/core/display.py:689: UserWarning:\n",
      "\n",
      "Consider using IPython.display.IFrame instead\n",
      "\n"
     ]
    },
    {
     "data": {
      "text/html": [
       "<iframe id=\"igraph\" scrolling=\"no\" style=\"border:none;\" seamless=\"seamless\" src=\"https://plot.ly/~juliausf/8.embed\" height=\"525px\" width=\"100%\"></iframe>"
      ],
      "text/plain": [
       "<chart_studio.tools.PlotlyDisplay object>"
      ]
     },
     "execution_count": 39,
     "metadata": {},
     "output_type": "execute_result"
    }
   ],
   "source": [
    "scl = [\n",
    "    [0.0, 'rgb(242,240,247)'],\n",
    "    [0.2, 'rgb(218,218,235)'],\n",
    "    [0.4, 'rgb(188,189,220)'],\n",
    "    [0.6, 'rgb(158,154,200)'],\n",
    "    [0.8, 'rgb(117,107,177)'],\n",
    "    [1.0, 'rgb(84,39,143)']\n",
    "]\n",
    "text = top1_df.apply(lambda row: \"{}<br>Most frequent: {}\".format(row.admin1, row.category), axis=1)\n",
    "\n",
    "data = [go.Choropleth(\n",
    "    colorscale = scl,\n",
    "    autocolorscale = False,\n",
    "    locations = top1_df['state'],\n",
    "    z = top1_df['total'].astype(float),\n",
    "     locationmode = 'USA-states',\n",
    "    text = text,\n",
    "    marker = go.choropleth.Marker(\n",
    "        line = go.choropleth.marker.Line(\n",
    "            color = 'rgb(255,255,255)',\n",
    "            width = 2\n",
    "        )),\n",
    "    colorbar = go.choropleth.ColorBar(\n",
    "        title = \"Total of check-ins\")\n",
    ")]\n",
    "\n",
    "layout = go.Layout(\n",
    "    title = go.layout.Title(\n",
    "        text = 'Number of check-ins on Foursquare by State (Apr-Sep 2013)'\n",
    "    ),\n",
    "    geo = go.layout.Geo(\n",
    "        scope = 'usa',\n",
    "        projection = go.layout.geo.Projection(type = 'albers usa'),\n",
    "        showlakes = True,\n",
    "        lakecolor = 'rgb(255, 255, 255)'),\n",
    ")\n",
    "\n",
    "fig = go.Figure(data = data, layout = layout)\n",
    "py.iplot(fig, filename = 'd3-cloropleth-map')"
   ]
  },
  {
   "cell_type": "code",
   "execution_count": 40,
   "metadata": {
    "ExecuteTime": {
     "end_time": "2019-05-11T19:45:58.172958Z",
     "start_time": "2019-05-11T19:45:57.063941Z"
    }
   },
   "outputs": [
    {
     "data": {
      "text/html": [
       "<div>\n",
       "<style scoped>\n",
       "    .dataframe tbody tr th:only-of-type {\n",
       "        vertical-align: middle;\n",
       "    }\n",
       "\n",
       "    .dataframe tbody tr th {\n",
       "        vertical-align: top;\n",
       "    }\n",
       "\n",
       "    .dataframe thead th {\n",
       "        text-align: right;\n",
       "    }\n",
       "</style>\n",
       "<table border=\"1\" class=\"dataframe\">\n",
       "  <thead>\n",
       "    <tr style=\"text-align: right;\">\n",
       "      <th></th>\n",
       "      <th>country</th>\n",
       "      <th>city</th>\n",
       "      <th>admin1</th>\n",
       "      <th>total_city</th>\n",
       "      <th>lat</th>\n",
       "      <th>lon</th>\n",
       "    </tr>\n",
       "  </thead>\n",
       "  <tbody>\n",
       "    <tr>\n",
       "      <th>0</th>\n",
       "      <td>US</td>\n",
       "      <td>Austin</td>\n",
       "      <td>Texas</td>\n",
       "      <td>21212</td>\n",
       "      <td>30.267118</td>\n",
       "      <td>-97.741096</td>\n",
       "    </tr>\n",
       "    <tr>\n",
       "      <th>1</th>\n",
       "      <td>US</td>\n",
       "      <td>Pittsburgh</td>\n",
       "      <td>Pennsylvania</td>\n",
       "      <td>5489</td>\n",
       "      <td>40.442627</td>\n",
       "      <td>-80.000282</td>\n",
       "    </tr>\n",
       "    <tr>\n",
       "      <th>2</th>\n",
       "      <td>US</td>\n",
       "      <td>Saint Simon Mills</td>\n",
       "      <td>Georgia</td>\n",
       "      <td>235</td>\n",
       "      <td>31.162176</td>\n",
       "      <td>-81.390198</td>\n",
       "    </tr>\n",
       "    <tr>\n",
       "      <th>3</th>\n",
       "      <td>US</td>\n",
       "      <td>Delafield</td>\n",
       "      <td>Wisconsin</td>\n",
       "      <td>125</td>\n",
       "      <td>43.051704</td>\n",
       "      <td>-88.372910</td>\n",
       "    </tr>\n",
       "    <tr>\n",
       "      <th>4</th>\n",
       "      <td>US</td>\n",
       "      <td>Trinity</td>\n",
       "      <td>Alabama</td>\n",
       "      <td>1247</td>\n",
       "      <td>28.187035</td>\n",
       "      <td>-82.666451</td>\n",
       "    </tr>\n",
       "  </tbody>\n",
       "</table>\n",
       "</div>"
      ],
      "text/plain": [
       "  country               city        admin1  total_city        lat        lon\n",
       "0      US             Austin         Texas       21212  30.267118 -97.741096\n",
       "1      US         Pittsburgh  Pennsylvania        5489  40.442627 -80.000282\n",
       "2      US  Saint Simon Mills       Georgia         235  31.162176 -81.390198\n",
       "3      US          Delafield     Wisconsin         125  43.051704 -88.372910\n",
       "4      US            Trinity       Alabama        1247  28.187035 -82.666451"
      ]
     },
     "execution_count": 40,
     "metadata": {},
     "output_type": "execute_result"
    }
   ],
   "source": [
    "total_city_df = df[[\"city\", \"poi_id\"]].groupby(\"city\").count().reset_index()\n",
    "total_city_df.columns = [\"city\", \"total_city\"]\n",
    "\n",
    "df_city = df[[\"country\", \"city\", \"admin1\"]].drop_duplicates().merge(total_city_df, how='left', on='city')\n",
    "\n",
    "median_city_df = df[[\"city\", \"lat\", \"lon\"]].groupby(\"city\").median().reset_index()\n",
    "df_city = df_city.merge(median_city_df, how='left', on='city')\n",
    "df_city = df_city[df_city.admin1.isin(us_state_abbrev.keys())]\n",
    "\n",
    "df_city.head()"
   ]
  },
  {
   "cell_type": "code",
   "execution_count": 52,
   "metadata": {
    "ExecuteTime": {
     "end_time": "2019-05-11T19:53:29.398309Z",
     "start_time": "2019-05-11T19:53:25.331211Z"
    }
   },
   "outputs": [
    {
     "data": {
      "text/html": [
       "<iframe id=\"igraph\" scrolling=\"no\" style=\"border:none;\" seamless=\"seamless\" src=\"https://plot.ly/~juliausf/24.embed\" height=\"525px\" width=\"100%\"></iframe>"
      ],
      "text/plain": [
       "<chart_studio.tools.PlotlyDisplay object>"
      ]
     },
     "execution_count": 52,
     "metadata": {},
     "output_type": "execute_result"
    }
   ],
   "source": [
    "limits = [(0,350),(350,1000),(1000,3000),(3000,20000)]\n",
    "n = len(limits)\n",
    "colors = sns.color_palette(\"colorblind\", n)\n",
    "colors = [\"rgb{}\".format(x) for x in colors]\n",
    "df_city[\"text\"] = df_city.apply(lambda row: row.city + \"<br> {}\".format(row.total_city), axis=1)\n",
    "cities = []\n",
    "scale = 100\n",
    "\n",
    "for i in range(len(limits)):\n",
    "    lim = limits[i]\n",
    "    df_sub = df_city[np.logical_and(df_city.total_city>=lim[0], df_city.total_city<lim[1])]\n",
    "    \n",
    "    city = go.Scattergeo(\n",
    "        locationmode = 'USA-states',\n",
    "        lon = df_sub['lon'],\n",
    "        lat = df_sub['lat'],\n",
    "        text = df_sub['text'],\n",
    "        marker = go.scattergeo.Marker(\n",
    "            size = df_sub['total_city']/scale,\n",
    "            color = colors[i],\n",
    "            line = go.scattergeo.marker.Line(\n",
    "                width=0.5, color='rgb(40,40,40)'\n",
    "            ),\n",
    "            sizemode = 'area'\n",
    "        ), \n",
    "        name = '{0} - {1}'.format(lim[0],lim[1]) )\n",
    "    cities.append(city)\n",
    "\n",
    "layout = go.Layout(\n",
    "        title = go.layout.Title(\n",
    "            text = 'Number of check-ins per city'\n",
    "        ),\n",
    "        showlegend = True,\n",
    "        geo = go.layout.Geo(\n",
    "            scope = 'usa',\n",
    "            projection = go.layout.geo.Projection(\n",
    "                type='albers usa'\n",
    "            ),\n",
    "            showland = True,\n",
    "            landcolor = 'rgb(217, 217, 217)',\n",
    "            subunitwidth=1,\n",
    "            countrywidth=1,\n",
    "            subunitcolor=\"rgb(255, 255, 255)\",\n",
    "            countrycolor=\"rgb(255, 255, 255)\"\n",
    "        )\n",
    "    )\n",
    "\n",
    "fig = go.Figure(data=cities, layout=layout)\n",
    "py.iplot(fig, filename='d3-bubble-map-populations')"
   ]
  },
  {
   "cell_type": "code",
   "execution_count": 132,
   "metadata": {
    "ExecuteTime": {
     "end_time": "2019-05-07T17:49:54.226159Z",
     "start_time": "2019-05-07T17:49:53.563860Z"
    }
   },
   "outputs": [
    {
     "data": {
      "text/html": [
       "<div>\n",
       "<style scoped>\n",
       "    .dataframe tbody tr th:only-of-type {\n",
       "        vertical-align: middle;\n",
       "    }\n",
       "\n",
       "    .dataframe tbody tr th {\n",
       "        vertical-align: top;\n",
       "    }\n",
       "\n",
       "    .dataframe thead tr th {\n",
       "        text-align: left;\n",
       "    }\n",
       "\n",
       "    .dataframe thead tr:last-of-type th {\n",
       "        text-align: right;\n",
       "    }\n",
       "</style>\n",
       "<table border=\"1\" class=\"dataframe\">\n",
       "  <thead>\n",
       "    <tr>\n",
       "      <th></th>\n",
       "      <th></th>\n",
       "      <th colspan=\"2\" halign=\"left\">ones</th>\n",
       "    </tr>\n",
       "    <tr>\n",
       "      <th></th>\n",
       "      <th></th>\n",
       "      <th>count</th>\n",
       "      <th>sum</th>\n",
       "    </tr>\n",
       "    <tr>\n",
       "      <th>city</th>\n",
       "      <th>category</th>\n",
       "      <th></th>\n",
       "      <th></th>\n",
       "    </tr>\n",
       "  </thead>\n",
       "  <tbody>\n",
       "    <tr>\n",
       "      <th rowspan=\"10\" valign=\"top\">'Ahuimanu</th>\n",
       "      <th>Asian Restaurant</th>\n",
       "      <td>1</td>\n",
       "      <td>1</td>\n",
       "    </tr>\n",
       "    <tr>\n",
       "      <th>Bank</th>\n",
       "      <td>1</td>\n",
       "      <td>1</td>\n",
       "    </tr>\n",
       "    <tr>\n",
       "      <th>Cemetery</th>\n",
       "      <td>2</td>\n",
       "      <td>2</td>\n",
       "    </tr>\n",
       "    <tr>\n",
       "      <th>Church</th>\n",
       "      <td>1</td>\n",
       "      <td>1</td>\n",
       "    </tr>\n",
       "    <tr>\n",
       "      <th>Coffee Shop</th>\n",
       "      <td>1</td>\n",
       "      <td>1</td>\n",
       "    </tr>\n",
       "    <tr>\n",
       "      <th>Diner</th>\n",
       "      <td>2</td>\n",
       "      <td>2</td>\n",
       "    </tr>\n",
       "    <tr>\n",
       "      <th>Fast Food Restaurant</th>\n",
       "      <td>1</td>\n",
       "      <td>1</td>\n",
       "    </tr>\n",
       "    <tr>\n",
       "      <th>General Travel</th>\n",
       "      <td>1</td>\n",
       "      <td>1</td>\n",
       "    </tr>\n",
       "    <tr>\n",
       "      <th>Government Building</th>\n",
       "      <td>1</td>\n",
       "      <td>1</td>\n",
       "    </tr>\n",
       "    <tr>\n",
       "      <th>Grocery Store</th>\n",
       "      <td>1</td>\n",
       "      <td>1</td>\n",
       "    </tr>\n",
       "  </tbody>\n",
       "</table>\n",
       "</div>"
      ],
      "text/plain": [
       "                                ones    \n",
       "                               count sum\n",
       "city      category                      \n",
       "'Ahuimanu Asian Restaurant         1   1\n",
       "          Bank                     1   1\n",
       "          Cemetery                 2   2\n",
       "          Church                   1   1\n",
       "          Coffee Shop              1   1\n",
       "          Diner                    2   2\n",
       "          Fast Food Restaurant     1   1\n",
       "          General Travel           1   1\n",
       "          Government Building      1   1\n",
       "          Grocery Store            1   1"
      ]
     },
     "execution_count": 132,
     "metadata": {},
     "output_type": "execute_result"
    }
   ],
   "source": [
    "df_poi[[\"city\", \"category\", \"ones\"]].groupby([\"city\", \"category\"]).agg(['count', 'sum']).head(10)"
   ]
  },
  {
   "cell_type": "code",
   "execution_count": 59,
   "metadata": {
    "ExecuteTime": {
     "end_time": "2019-05-11T19:08:41.276490Z",
     "start_time": "2019-05-11T19:08:40.991759Z"
    }
   },
   "outputs": [
    {
     "data": {
      "text/html": [
       "<div>\n",
       "<style scoped>\n",
       "    .dataframe tbody tr th:only-of-type {\n",
       "        vertical-align: middle;\n",
       "    }\n",
       "\n",
       "    .dataframe tbody tr th {\n",
       "        vertical-align: top;\n",
       "    }\n",
       "\n",
       "    .dataframe thead th {\n",
       "        text-align: right;\n",
       "    }\n",
       "</style>\n",
       "<table border=\"1\" class=\"dataframe\">\n",
       "  <thead>\n",
       "    <tr style=\"text-align: right;\">\n",
       "      <th></th>\n",
       "      <th>city</th>\n",
       "      <th>poi_id</th>\n",
       "    </tr>\n",
       "  </thead>\n",
       "  <tbody>\n",
       "    <tr>\n",
       "      <th>6987</th>\n",
       "      <td>New York City</td>\n",
       "      <td>19808</td>\n",
       "    </tr>\n",
       "    <tr>\n",
       "      <th>1731</th>\n",
       "      <td>Chicago</td>\n",
       "      <td>16561</td>\n",
       "    </tr>\n",
       "    <tr>\n",
       "      <th>5975</th>\n",
       "      <td>Manhattan</td>\n",
       "      <td>14257</td>\n",
       "    </tr>\n",
       "    <tr>\n",
       "      <th>8916</th>\n",
       "      <td>San Francisco</td>\n",
       "      <td>14068</td>\n",
       "    </tr>\n",
       "    <tr>\n",
       "      <th>5746</th>\n",
       "      <td>Long Island City</td>\n",
       "      <td>12272</td>\n",
       "    </tr>\n",
       "  </tbody>\n",
       "</table>\n",
       "</div>"
      ],
      "text/plain": [
       "                  city  poi_id\n",
       "6987     New York City   19808\n",
       "1731           Chicago   16561\n",
       "5975         Manhattan   14257\n",
       "8916     San Francisco   14068\n",
       "5746  Long Island City   12272"
      ]
     },
     "execution_count": 59,
     "metadata": {},
     "output_type": "execute_result"
    }
   ],
   "source": [
    "df_poi[[\"city\", \"poi_id\"]].groupby(\"city\").count().reset_index().sort_values(\"poi_id\", ascending=False).head()"
   ]
  },
  {
   "cell_type": "code",
   "execution_count": 53,
   "metadata": {
    "ExecuteTime": {
     "end_time": "2019-05-11T19:56:04.660655Z",
     "start_time": "2019-05-11T19:55:38.343780Z"
    }
   },
   "outputs": [
    {
     "name": "stdout",
     "output_type": "stream",
     "text": [
      "Home (private)\n",
      "Office\n",
      "Coffee Shop\n",
      "Airport\n",
      "American Restaurant\n",
      "Bar\n",
      "Grocery Store\n",
      "Gym\n",
      "Gas Station / Garage\n",
      "Hotel\n",
      "Building\n"
     ]
    },
    {
     "name": "stderr",
     "output_type": "stream",
     "text": [
      "/home/julia/anaconda3/envs/MSDS603/lib/python3.7/site-packages/chart_studio/plotly/plotly.py:248: UserWarning:\n",
      "\n",
      "Woah there! Look at all those points! Due to browser limitations, the Plotly SVG drawing functions have a hard time graphing more than 500k data points for line charts, or 40k points for other types of charts. Here are some suggestions:\n",
      "(1) Use the `plotly.graph_objs.Scattergl` trace object to generate a WebGl graph.\n",
      "(2) Trying using the image API to return an image instead of a graph URL\n",
      "(3) Use matplotlib\n",
      "(4) See if you can create your visualization with fewer data points\n",
      "\n",
      "If the visualization you're using aggregates points (e.g., box plot, histogram, etc.) you can disregard this warning.\n",
      "\n",
      "/home/julia/anaconda3/envs/MSDS603/lib/python3.7/site-packages/IPython/core/display.py:689: UserWarning:\n",
      "\n",
      "Consider using IPython.display.IFrame instead\n",
      "\n"
     ]
    },
    {
     "data": {
      "text/html": [
       "<iframe id=\"igraph\" scrolling=\"no\" style=\"border:none;\" seamless=\"seamless\" src=\"https://plot.ly/~juliausf/6.embed\" height=\"525px\" width=\"100%\"></iframe>"
      ],
      "text/plain": [
       "<chart_studio.tools.PlotlyDisplay object>"
      ]
     },
     "execution_count": 53,
     "metadata": {},
     "output_type": "execute_result"
    }
   ],
   "source": [
    "traces = []\n",
    "for i, cat in df[[\"category\", \"poi_id\"]].groupby(\"category\").count().sort_values(\"poi_id\", ascending=False).reset_index().category.iteritems():\n",
    "    if i>10:\n",
    "        break\n",
    "    print(cat)\n",
    "    trace = go.Histogram(\n",
    "    x=df[df.category == cat].hour,\n",
    "    opacity=0.75,\n",
    "        name=cat\n",
    "    )\n",
    "    traces.append(trace)\n",
    "    \n",
    "layout = go.Layout(barmode='overlay',\n",
    "    title='Number of check-ins on Foursquare (Apr-Sep 2013)',\n",
    "    xaxis=dict(\n",
    "        title='Hour of the day'\n",
    "    ),\n",
    "    yaxis=dict(\n",
    "        title='Count'\n",
    "    )\n",
    ")\n",
    "fig = go.Figure(data=traces, layout=layout)\n",
    "\n",
    "py.iplot(fig, filename='overlaid histogram')"
   ]
  },
  {
   "cell_type": "code",
   "execution_count": 65,
   "metadata": {
    "ExecuteTime": {
     "end_time": "2019-05-11T20:04:04.308192Z",
     "start_time": "2019-05-11T20:04:03.221906Z"
    }
   },
   "outputs": [
    {
     "data": {
      "text/plain": [
       "array(['08', '09', '18', '17', '19', '20', '07', '21', '22', '16', '23',\n",
       "       '10', '15', '14', '12', '00', '13', '11', '05', '06', '01', '02',\n",
       "       '03', '04'], dtype=object)"
      ]
     },
     "execution_count": 65,
     "metadata": {},
     "output_type": "execute_result"
    }
   ],
   "source": [
    "cat_per_hour = df[[\"category\", \"hour\", \"poi_id\"]].groupby([\"category\", \"hour\"]).count().reset_index().sort_values(\"poi_id\", ascending=False)\n",
    "cat_per_hour.columns = [\"category\", \"hour\", \"n\"]\n"
   ]
  },
  {
   "cell_type": "code",
   "execution_count": 80,
   "metadata": {
    "ExecuteTime": {
     "end_time": "2019-05-11T20:14:31.715361Z",
     "start_time": "2019-05-11T20:14:29.317439Z"
    }
   },
   "outputs": [
    {
     "name": "stderr",
     "output_type": "stream",
     "text": [
      "/home/julia/anaconda3/envs/MSDS603/lib/python3.7/site-packages/IPython/core/display.py:689: UserWarning:\n",
      "\n",
      "Consider using IPython.display.IFrame instead\n",
      "\n"
     ]
    },
    {
     "data": {
      "text/html": [
       "<iframe id=\"igraph\" scrolling=\"no\" style=\"border:none;\" seamless=\"seamless\" src=\"https://plot.ly/~juliausf/26.embed\" height=\"525px\" width=\"100%\"></iframe>"
      ],
      "text/plain": [
       "<chart_studio.tools.PlotlyDisplay object>"
      ]
     },
     "execution_count": 80,
     "metadata": {},
     "output_type": "execute_result"
    }
   ],
   "source": [
    "hours = sorted(cat_per_hour.hour.unique().tolist())\n",
    "cats = []\n",
    "ys = []\n",
    "all_hours = []\n",
    "for i, cat in df[[\"category\", \"poi_id\"]].groupby(\"category\").count().sort_values(\"poi_id\", ascending=False).reset_index().category.iteritems():\n",
    "    if i>10:\n",
    "        break\n",
    "    for hour in hours:\n",
    "        cats.append(cat)\n",
    "        df_sub = cat_per_hour[cat_per_hour.category == cat]\n",
    "        df_sub = df_sub[df_sub.hour == hour]\n",
    "        ys.append(float(df_sub.n))\n",
    "        all_hours.append(hour)\n",
    "        \n",
    "data = [\n",
    "    go.Heatmap(\n",
    "        z=ys,\n",
    "        x=all_hours,\n",
    "        y=cats,\n",
    "        colorscale='Viridis',\n",
    "    )\n",
    "]\n",
    "\n",
    "layout = go.Layout(\n",
    "    title='Number of check-ins per hour of the day',\n",
    "     xaxis=go.layout.XAxis(\n",
    "        title=go.layout.xaxis.Title(\n",
    "            text='Hour'\n",
    "        ),\n",
    "         nticks=48\n",
    "    )\n",
    ")\n",
    "\n",
    "fig = go.Figure(data=data, layout=layout)\n",
    "py.iplot(fig, filename='datetime-heatmap')"
   ]
  },
  {
   "cell_type": "code",
   "execution_count": 180,
   "metadata": {
    "ExecuteTime": {
     "end_time": "2019-05-11T20:49:56.057407Z",
     "start_time": "2019-05-11T20:49:53.702329Z"
    }
   },
   "outputs": [
    {
     "name": "stderr",
     "output_type": "stream",
     "text": [
      "/home/julia/anaconda3/envs/MSDS603/lib/python3.7/site-packages/IPython/core/display.py:689: UserWarning:\n",
      "\n",
      "Consider using IPython.display.IFrame instead\n",
      "\n"
     ]
    },
    {
     "data": {
      "text/html": [
       "<iframe id=\"igraph\" scrolling=\"no\" style=\"border:none;\" seamless=\"seamless\" src=\"https://plot.ly/~juliausf/28.embed\" height=\"525px\" width=\"100%\"></iframe>"
      ],
      "text/plain": [
       "<chart_studio.tools.PlotlyDisplay object>"
      ]
     },
     "execution_count": 180,
     "metadata": {},
     "output_type": "execute_result"
    }
   ],
   "source": [
    "hours = sorted(cat_per_hour.hour.unique().tolist())\n",
    "n = 11\n",
    "colors = reversed(sns.color_palette(\"colorblind\", n*2))\n",
    "colors = ['rgb{}'.format(x) for x in colors]\n",
    "traces = []\n",
    "\n",
    "for i, cat in df[[\"category\", \"poi_id\"]].groupby(\"category\").count().sort_values(\"poi_id\", ascending=False).head(11).reset_index().sort_values(\"poi_id\").category.iteritems():\n",
    "    \n",
    "    if i>=n:\n",
    "        break\n",
    "    ys = []\n",
    "    for hour in hours:\n",
    "        df_sub = cat_per_hour[cat_per_hour.category == cat]\n",
    "        df_sub = df_sub[df_sub.hour == hour]\n",
    "        ys.append(float(df_sub.n))\n",
    "    \n",
    "    trace = dict(\n",
    "    x=hours,\n",
    "    y=ys,\n",
    "    mode='lines',\n",
    "    line=dict(width=0.5,\n",
    "              color=colors[i]),\n",
    "    stackgroup='one',\n",
    "    groupnorm='percent', \n",
    "        name=cat\n",
    "    )\n",
    "    traces.append(trace)\n",
    "    \n",
    "data = traces\n",
    "layout = go.Layout(\n",
    "    title=\"Percentage of check-ins by hour and category\",\n",
    "    showlegend=True,\n",
    "    \n",
    "    xaxis=go.layout.XAxis(\n",
    "        title=go.layout.xaxis.Title(\n",
    "            text='Hour'\n",
    "        ),\n",
    "        type='category'\n",
    "    ),\n",
    "    \n",
    "    \n",
    "    yaxis=dict(\n",
    "        type='linear',\n",
    "        range=[1, 100],\n",
    "        dtick=20,\n",
    "        ticksuffix='%',\n",
    "        tickformat='.1f'\n",
    "    )\n",
    ")\n",
    "fig = dict(data=data, layout=layout)\n",
    "py.iplot(fig, filename='stacked-area-plot-norm', validate=False)"
   ]
  },
  {
   "cell_type": "code",
   "execution_count": 82,
   "metadata": {
    "ExecuteTime": {
     "end_time": "2019-05-11T20:20:03.384651Z",
     "start_time": "2019-05-11T20:20:03.376131Z"
    }
   },
   "outputs": [
    {
     "data": {
      "text/html": [
       "<div>\n",
       "<style scoped>\n",
       "    .dataframe tbody tr th:only-of-type {\n",
       "        vertical-align: middle;\n",
       "    }\n",
       "\n",
       "    .dataframe tbody tr th {\n",
       "        vertical-align: top;\n",
       "    }\n",
       "\n",
       "    .dataframe thead th {\n",
       "        text-align: right;\n",
       "    }\n",
       "</style>\n",
       "<table border=\"1\" class=\"dataframe\">\n",
       "  <thead>\n",
       "    <tr style=\"text-align: right;\">\n",
       "      <th></th>\n",
       "      <th>country</th>\n",
       "      <th>city</th>\n",
       "      <th>admin1</th>\n",
       "      <th>total_city</th>\n",
       "      <th>lat</th>\n",
       "      <th>lon</th>\n",
       "      <th>text</th>\n",
       "    </tr>\n",
       "  </thead>\n",
       "  <tbody>\n",
       "    <tr>\n",
       "      <th>0</th>\n",
       "      <td>US</td>\n",
       "      <td>Austin</td>\n",
       "      <td>Texas</td>\n",
       "      <td>21212</td>\n",
       "      <td>30.267118</td>\n",
       "      <td>-97.741096</td>\n",
       "      <td>Austin&lt;br&gt; 21212</td>\n",
       "    </tr>\n",
       "    <tr>\n",
       "      <th>1</th>\n",
       "      <td>US</td>\n",
       "      <td>Pittsburgh</td>\n",
       "      <td>Pennsylvania</td>\n",
       "      <td>5489</td>\n",
       "      <td>40.442627</td>\n",
       "      <td>-80.000282</td>\n",
       "      <td>Pittsburgh&lt;br&gt; 5489</td>\n",
       "    </tr>\n",
       "    <tr>\n",
       "      <th>2</th>\n",
       "      <td>US</td>\n",
       "      <td>Saint Simon Mills</td>\n",
       "      <td>Georgia</td>\n",
       "      <td>235</td>\n",
       "      <td>31.162176</td>\n",
       "      <td>-81.390198</td>\n",
       "      <td>Saint Simon Mills&lt;br&gt; 235</td>\n",
       "    </tr>\n",
       "    <tr>\n",
       "      <th>3</th>\n",
       "      <td>US</td>\n",
       "      <td>Delafield</td>\n",
       "      <td>Wisconsin</td>\n",
       "      <td>125</td>\n",
       "      <td>43.051704</td>\n",
       "      <td>-88.372910</td>\n",
       "      <td>Delafield&lt;br&gt; 125</td>\n",
       "    </tr>\n",
       "    <tr>\n",
       "      <th>4</th>\n",
       "      <td>US</td>\n",
       "      <td>Trinity</td>\n",
       "      <td>Alabama</td>\n",
       "      <td>1247</td>\n",
       "      <td>28.187035</td>\n",
       "      <td>-82.666451</td>\n",
       "      <td>Trinity&lt;br&gt; 1247</td>\n",
       "    </tr>\n",
       "  </tbody>\n",
       "</table>\n",
       "</div>"
      ],
      "text/plain": [
       "  country               city        admin1  total_city        lat        lon  \\\n",
       "0      US             Austin         Texas       21212  30.267118 -97.741096   \n",
       "1      US         Pittsburgh  Pennsylvania        5489  40.442627 -80.000282   \n",
       "2      US  Saint Simon Mills       Georgia         235  31.162176 -81.390198   \n",
       "3      US          Delafield     Wisconsin         125  43.051704 -88.372910   \n",
       "4      US            Trinity       Alabama        1247  28.187035 -82.666451   \n",
       "\n",
       "                        text  \n",
       "0           Austin<br> 21212  \n",
       "1        Pittsburgh<br> 5489  \n",
       "2  Saint Simon Mills<br> 235  \n",
       "3          Delafield<br> 125  \n",
       "4           Trinity<br> 1247  "
      ]
     },
     "execution_count": 82,
     "metadata": {},
     "output_type": "execute_result"
    }
   ],
   "source": [
    "df_city.head()"
   ]
  },
  {
   "cell_type": "code",
   "execution_count": 86,
   "metadata": {
    "ExecuteTime": {
     "end_time": "2019-05-11T20:22:38.326341Z",
     "start_time": "2019-05-11T20:22:38.321120Z"
    }
   },
   "outputs": [
    {
     "data": {
      "text/html": [
       "<div>\n",
       "<style scoped>\n",
       "    .dataframe tbody tr th:only-of-type {\n",
       "        vertical-align: middle;\n",
       "    }\n",
       "\n",
       "    .dataframe tbody tr th {\n",
       "        vertical-align: top;\n",
       "    }\n",
       "\n",
       "    .dataframe thead th {\n",
       "        text-align: right;\n",
       "    }\n",
       "</style>\n",
       "<table border=\"1\" class=\"dataframe\">\n",
       "  <thead>\n",
       "    <tr style=\"text-align: right;\">\n",
       "      <th></th>\n",
       "      <th>city</th>\n",
       "      <th>total_city</th>\n",
       "    </tr>\n",
       "  </thead>\n",
       "  <tbody>\n",
       "    <tr>\n",
       "      <th>29</th>\n",
       "      <td>New York City</td>\n",
       "      <td>82686</td>\n",
       "    </tr>\n",
       "    <tr>\n",
       "      <th>5</th>\n",
       "      <td>Chicago</td>\n",
       "      <td>65935</td>\n",
       "    </tr>\n",
       "    <tr>\n",
       "      <th>41</th>\n",
       "      <td>Washington, D.C.</td>\n",
       "      <td>55369</td>\n",
       "    </tr>\n",
       "    <tr>\n",
       "      <th>3807</th>\n",
       "      <td>Manhattan</td>\n",
       "      <td>51387</td>\n",
       "    </tr>\n",
       "    <tr>\n",
       "      <th>1339</th>\n",
       "      <td>Manhattan</td>\n",
       "      <td>51387</td>\n",
       "    </tr>\n",
       "  </tbody>\n",
       "</table>\n",
       "</div>"
      ],
      "text/plain": [
       "                  city  total_city\n",
       "29       New York City       82686\n",
       "5              Chicago       65935\n",
       "41    Washington, D.C.       55369\n",
       "3807         Manhattan       51387\n",
       "1339         Manhattan       51387"
      ]
     },
     "execution_count": 86,
     "metadata": {},
     "output_type": "execute_result"
    }
   ],
   "source": [
    "group_df.head()"
   ]
  },
  {
   "cell_type": "code",
   "execution_count": 155,
   "metadata": {
    "ExecuteTime": {
     "end_time": "2019-05-11T20:31:32.012150Z",
     "start_time": "2019-05-11T20:31:31.842297Z"
    }
   },
   "outputs": [
    {
     "data": {
      "image/png": "[encoded data removed]",
      "text/plain": [
       "<Figure size 936x561.6 with 1 Axes>"
      ]
     },
     "metadata": {},
     "output_type": "display_data"
    }
   ],
   "source": [
    "plt.style.use('ggplot')\n",
    "scale=1.30\n",
    "plt.rcParams['figure.figsize'] = (10.0*scale, 6.0*scale) \n",
    "group_df=df_city[[\"city\", \"total_city\"]].drop_duplicates().sort_values(\"total_city\", ascending=False).head(10)\n",
    "labels = group_df.apply(lambda row: row.city + \": {}\".format(row.total_city), axis=1)\n",
    " \n",
    "n = group_df.shape[0]\n",
    "color = sns.color_palette(\"colorblind\", n)\n",
    "np.random.shuffle(color)\n",
    "\n",
    "squarify.plot(sizes=group_df.total_city, label=labels, alpha=.8, color=color, text_kwargs={'fontsize':12})\n",
    "plt.title(\"Top 10 Cities with the most check-ins\")\n",
    "plt.axis('off')\n",
    "plt.show()"
   ]
  },
  {
   "cell_type": "code",
   "execution_count": 7,
   "metadata": {
    "ExecuteTime": {
     "end_time": "2019-04-30T20:22:46.385236Z",
     "start_time": "2019-04-30T20:22:42.882032Z"
    }
   },
   "outputs": [],
   "source": [
    "df = df_poi[[\"poi_id\", \"category\"]].merge(df_check, how='inner', on=\"poi_id\")"
   ]
  },
  {
   "cell_type": "code",
   "execution_count": 57,
   "metadata": {
    "ExecuteTime": {
     "end_time": "2019-05-11T19:06:53.134104Z",
     "start_time": "2019-05-11T19:06:52.295316Z"
    }
   },
   "outputs": [
    {
     "data": {
      "text/html": [
       "<div>\n",
       "<style scoped>\n",
       "    .dataframe tbody tr th:only-of-type {\n",
       "        vertical-align: middle;\n",
       "    }\n",
       "\n",
       "    .dataframe tbody tr th {\n",
       "        vertical-align: top;\n",
       "    }\n",
       "\n",
       "    .dataframe thead th {\n",
       "        text-align: right;\n",
       "    }\n",
       "</style>\n",
       "<table border=\"1\" class=\"dataframe\">\n",
       "  <thead>\n",
       "    <tr style=\"text-align: right;\">\n",
       "      <th></th>\n",
       "      <th>category</th>\n",
       "      <th>percent</th>\n",
       "    </tr>\n",
       "  </thead>\n",
       "  <tbody>\n",
       "    <tr>\n",
       "      <th>217</th>\n",
       "      <td>Cuban Restaurant</td>\n",
       "      <td>0.950181</td>\n",
       "    </tr>\n",
       "    <tr>\n",
       "      <th>218</th>\n",
       "      <td>Cemetery</td>\n",
       "      <td>0.950853</td>\n",
       "    </tr>\n",
       "    <tr>\n",
       "      <th>219</th>\n",
       "      <td>Design Studio</td>\n",
       "      <td>0.951523</td>\n",
       "    </tr>\n",
       "    <tr>\n",
       "      <th>220</th>\n",
       "      <td>Wine Shop</td>\n",
       "      <td>0.952185</td>\n",
       "    </tr>\n",
       "    <tr>\n",
       "      <th>221</th>\n",
       "      <td>Men's Store</td>\n",
       "      <td>0.952842</td>\n",
       "    </tr>\n",
       "  </tbody>\n",
       "</table>\n",
       "</div>"
      ],
      "text/plain": [
       "             category   percent\n",
       "217  Cuban Restaurant  0.950181\n",
       "218          Cemetery  0.950853\n",
       "219     Design Studio  0.951523\n",
       "220         Wine Shop  0.952185\n",
       "221       Men's Store  0.952842"
      ]
     },
     "execution_count": 57,
     "metadata": {},
     "output_type": "execute_result"
    }
   ],
   "source": [
    "tmp_df = df[[\"category\", \"poi_id\"]].groupby(\"category\").count().sort_values(\"poi_id\", ascending=False).cumsum()/df.poi_id.count()\n",
    "\n",
    "tmp_df = tmp_df.reset_index()\n",
    "tmp_df.columns = [\"category\", \"percent\"]\n",
    "tmp_df[tmp_df.percent>=0.95].head()"
   ]
  }
 ],
 "metadata": {
  "kernelspec": {
   "display_name": "Python 3",
   "language": "python",
   "name": "python3"
  },
  "language_info": {
   "codemirror_mode": {
    "name": "ipython",
    "version": 3
   },
   "file_extension": ".py",
   "mimetype": "text/x-python",
   "name": "python",
   "nbconvert_exporter": "python",
   "pygments_lexer": "ipython3",
   "version": "3.7.3"
  }
 },
 "nbformat": 4,
 "nbformat_minor": 2
}
